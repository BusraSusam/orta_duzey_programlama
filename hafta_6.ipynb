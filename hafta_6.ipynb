{
 "cells": [
  {
   "cell_type": "code",
   "execution_count": 1,
   "id": "6dd0618f-9ccc-4960-83ac-0a212b8cb92a",
   "metadata": {},
   "outputs": [
    {
     "name": "stdout",
     "output_type": "stream",
     "text": [
      "64\n"
     ]
    }
   ],
   "source": [
    "# Lambda ile tek satırda fonksiyon yazmıştık\n",
    "\n",
    "kare_al = lambda x:x**2\n",
    "print(kare_al(8))"
   ]
  },
  {
   "cell_type": "code",
   "execution_count": 5,
   "id": "ab59d9c1-f804-42d9-9c75-0b52682ee0ff",
   "metadata": {},
   "outputs": [
    {
     "name": "stdout",
     "output_type": "stream",
     "text": [
      "[1, 4, 9, 16, 25, 36, 49, 64, 81, 100]\n"
     ]
    }
   ],
   "source": [
    "# Map fonksiyonu ile normalde labmda ile tek değere uygulanan\n",
    "# fonksiyonları bir iterable nesneye (örneğin bir listeye)\n",
    "# uygulamıştık\n",
    "\n",
    "# aşağıda verilen listedeki tüm elemanların karesini almak\n",
    "my_list = [x for x in range(1,11)]\n",
    "\n",
    "print(list(map(kare_al,my_list)))"
   ]
  },
  {
   "cell_type": "code",
   "execution_count": 7,
   "id": "9b3857cb-2786-4f4c-8bff-6f6d5589c7f9",
   "metadata": {},
   "outputs": [],
   "source": [
    "# Filter fonksiyonu: adından da anlaşılacağı üzere\n",
    "# bir lambda ifadesini ya da normal bir şekilde tanımlanmış fonksiyonu\n",
    "# iterable bir nesneye (örneğin bir listeye) uygular. Bu açıdan map fonksiyonuyla\n",
    "# bire bir aynı işlevi görür. Ancak, çok önemli bir farkı vardır:\n",
    "# filter fonksiyonu sadece True olan değerleri döndürür.\n",
    "# Kendi içerisinde önce bir filtreleme yapar ve bu filtrelemenin sonucunda\n",
    "# sadece True olan değerleri döndürür"
   ]
  },
  {
   "cell_type": "code",
   "execution_count": 19,
   "id": "309de4c7-dc16-4d8f-8ac6-17d7eee82d87",
   "metadata": {},
   "outputs": [
    {
     "name": "stdout",
     "output_type": "stream",
     "text": [
      "[0, 2, 4, 6, 8, 10]\n"
     ]
    }
   ],
   "source": [
    "# 0'dan 10'a kadar sayıları içeren bir listedeki sadece çift sayıları\n",
    "# bir liste olarak döndüren fonksiyonu yazınız\n",
    "\n",
    "my_list_1 = [x for x in range(0,11)]\n",
    "\n",
    "def cift_sayilar(deneme:list):\n",
    "    bos_list = []\n",
    "    for eleman in deneme:\n",
    "        if eleman%2==0:\n",
    "            bos_list.append(eleman)\n",
    "    return bos_list\n",
    "\n",
    "sonuc = cift_sayilar(my_list_1)\n",
    "print(sonuc)"
   ]
  },
  {
   "cell_type": "code",
   "execution_count": 21,
   "id": "ea673f56-f0a3-40b5-b6af-a1190728d1e2",
   "metadata": {},
   "outputs": [
    {
     "name": "stdout",
     "output_type": "stream",
     "text": [
      "map ile çift sayılar = [True, False, True, False, True, False, True, False, True, False, True]\n",
      "--------------------------------------------------\n",
      "filter ile çift sayılar = [0, 2, 4, 6, 8, 10]\n"
     ]
    }
   ],
   "source": [
    "# Map ile Filter arasındaki fark\n",
    "# aynı kod map ile de yazılır (filter için yazılan kod) ve çalışır da.\n",
    "# Ancak, map ile çalışan kodda değer değil True, False ifadeleri döner\n",
    "# yani şartı sağlayan değerler True olarak görünür, sağlamayan değerler ise\n",
    "# False olarak görünür\n",
    "# Filter ise bunların direkt değerlerini döndürür (sadece True olanların\n",
    "# değerini döndürür)\n",
    "# Aşağıda map ve filter'in aynı görev ve aynı kodla kullanımına dair\n",
    "# örnekle bu durum açıklanmaktadır\n",
    "\n",
    "# Map ile listedeki sadece çift sayıları döndürme\n",
    "\n",
    "my_list_1 = [x for x in range(0,11)]\n",
    "\n",
    "cift_sayi_map = list(map(lambda x: x%2==0,my_list_1))\n",
    "\n",
    "# Filter ile listedeki sadece çift sayıları döndürme\n",
    "\n",
    "cift_sayi_filter = list(filter(lambda x: x%2==0,my_list_1))\n",
    "\n",
    "print(f\"map ile çift sayılar = {cift_sayi_map}\")\n",
    "print(\"-\"*50)\n",
    "print(f\"filter ile çift sayılar = {cift_sayi_filter}\")"
   ]
  },
  {
   "cell_type": "code",
   "execution_count": 25,
   "id": "a45e0d00-08e0-4201-84c9-ed5d83ca10fc",
   "metadata": {},
   "outputs": [
    {
     "name": "stdout",
     "output_type": "stream",
     "text": [
      "Sonuç (Normal fonksiyon ile) = [0, 1, 2, 3, 4, 5, 6, 7, 8, 9, 10]\n",
      "--------------------------------------------------\n",
      "Sonuç (Map fonksiyonu ile) = [False, False, False, False, False, False, False, False, False, False, True, True, True, True, True, True, True, True, True, True, True]\n",
      "--------------------------------------------------\n",
      "Sonuç (Filter fonksiyonu ile) = [0, 1, 2, 3, 4, 5, 6, 7, 8, 9, 10]\n"
     ]
    }
   ],
   "source": [
    "# 20 farklı değer barındıran listedeki pozitif elemanları bulan kod\n",
    "# 1) normal fonksiyon ile yazın (geriye liste döndürecek)\n",
    "# 2) map ile yazın\n",
    "# 3) filter ile yazın\n",
    "\n",
    "my_list_2 = [x for x in range(-10,11)]\n",
    "\n",
    "def pozitif_sayilar(deneme:list):\n",
    "    bos_list = []\n",
    "    for eleman in deneme:\n",
    "        if eleman>=0:\n",
    "            bos_list.append(eleman)\n",
    "    return bos_list\n",
    "\n",
    "sayilar_normal_fonk = pozitif_sayilar(my_list_2)\n",
    "sayilar_map = list(map(lambda x:x>=0,my_list_2))\n",
    "sayilar_filter = list(filter(lambda x:x>=0,my_list_2))\n",
    "\n",
    "print(f\"Sonuç (Normal fonksiyon ile) = {sayilar_normal_fonk}\")\n",
    "print(\"-\"*50)\n",
    "print(f\"Sonuç (Map fonksiyonu ile) = {sayilar_map}\")\n",
    "print(\"-\"*50)\n",
    "print(f\"Sonuç (Filter fonksiyonu ile) = {sayilar_filter}\")"
   ]
  },
  {
   "cell_type": "code",
   "execution_count": 27,
   "id": "43265bd3-c5a3-4768-9af5-88e8b2808680",
   "metadata": {},
   "outputs": [
    {
     "name": "stdout",
     "output_type": "stream",
     "text": [
      "Sonuç (Normal fonksiyon ile) = [1, 3, 5, 7, 9]\n",
      "--------------------------------------------------\n",
      "Sonuç (Map fonksiyonu ile) = [False, False, False, False, False, False, False, False, False, False, False, True, False, True, False, True, False, True, False, True, False]\n",
      "--------------------------------------------------\n",
      "Sonuç (Filter fonksiyonu ile) = [1, 3, 5, 7, 9]\n"
     ]
    }
   ],
   "source": [
    "# 20 farklı değer barındıran listedeki pozitif-tek elemanları bulan kod\n",
    "# 1) normal fonksiyon ile yazın (geriye liste döndürecek)\n",
    "# 2) map ile yazın\n",
    "# 3) filter ile yazın\n",
    "\n",
    "my_list_2 = [x for x in range(-10,11)]\n",
    "\n",
    "def pozitif_sayilar(deneme:list):\n",
    "    bos_list = []\n",
    "    for eleman in deneme:\n",
    "        if eleman>=0 and eleman%2!=0:\n",
    "            bos_list.append(eleman)\n",
    "    return bos_list\n",
    "\n",
    "sayilar_normal_fonk = pozitif_sayilar(my_list_2)\n",
    "sayilar_map = list(map(lambda x:x>=0 and x%2!=0,my_list_2))\n",
    "sayilar_filter = list(filter(lambda x:x>=0 and x%2!=0,my_list_2))\n",
    "\n",
    "print(f\"Sonuç (Normal fonksiyon ile) = {sayilar_normal_fonk}\")\n",
    "print(\"-\"*50)\n",
    "print(f\"Sonuç (Map fonksiyonu ile) = {sayilar_map}\")\n",
    "print(\"-\"*50)\n",
    "print(f\"Sonuç (Filter fonksiyonu ile) = {sayilar_filter}\")"
   ]
  },
  {
   "cell_type": "code",
   "execution_count": 29,
   "id": "85510f8b-5c0b-4046-b030-921a87ac9389",
   "metadata": {},
   "outputs": [
    {
     "name": "stdout",
     "output_type": "stream",
     "text": [
      "Sonuç (Normal fonksiyon ile) = ['Bucak ZTYO', 'Yazılımcı', 'Orta Düzey Programlama']\n",
      "--------------------------------------------------\n",
      "Sonuç (Map fonksiyonu ile) = [False, False, True, False, True, True]\n",
      "--------------------------------------------------\n",
      "Sonuç (Filter fonksiyonu ile) = ['Bucak ZTYO', 'Yazılımcı', 'Orta Düzey Programlama']\n"
     ]
    }
   ],
   "source": [
    "# İçi, str tipindeki değerlerle dolu olan bir listedeki\n",
    "# kelime uzunluğu 7'den büyük olan kelimeleri bir liste olarak döndüren\n",
    "# a) Normal fonksiyon\n",
    "# b) map\n",
    "# c) filter\n",
    "\n",
    "my_list_3 = [\"Burdur\",\"Makü\",\"Bucak ZTYO\",\"Furkan\",\"Yazılımcı\",\"Orta Düzey Programlama\"]\n",
    "\n",
    "def eleman_uzunluk(deneme:list):\n",
    "    bos_liste = []\n",
    "    for eleman in deneme:\n",
    "        if len(eleman)>7:\n",
    "            bos_liste.append(eleman)\n",
    "    return bos_liste\n",
    "\n",
    "uzunluk_fonksiyon = eleman_uzunluk(my_list_3)\n",
    "uzunluk_map = list(map(lambda x:len(x)>7,my_list_3))\n",
    "uzunluk_filter = list(filter(lambda x:len(x)>7,my_list_3))\n",
    "\n",
    "print(f\"Sonuç (Normal fonksiyon ile) = {uzunluk_fonksiyon}\")\n",
    "print(\"-\"*50)\n",
    "print(f\"Sonuç (Map fonksiyonu ile) = {uzunluk_map}\")\n",
    "print(\"-\"*50)\n",
    "print(f\"Sonuç (Filter fonksiyonu ile) = {uzunluk_filter}\")"
   ]
  },
  {
   "cell_type": "code",
   "execution_count": 33,
   "id": "cd5fb425-2541-4f0f-8e3b-5a6798a3be3a",
   "metadata": {},
   "outputs": [
    {
     "name": "stdout",
     "output_type": "stream",
     "text": [
      "Sonuç (Normal fonksiyon ile) = ['fransa', 'frankfurt']\n",
      "--------------------------------------------------\n",
      "Sonuç (Map fonksiyonu ile) = [True, False, False, True, False]\n",
      "--------------------------------------------------\n",
      "Sonuç (Filter fonksiyonu ile) = ['fransa', 'frankfurt']\n"
     ]
    }
   ],
   "source": [
    "#str liste içinde, \"fr\" ifadesi geçen değerleri yazdırma (3 yolla da yapın)\n",
    "\n",
    "my_list_4 = [\"fransa\",\"Türkiye\",\"İtalya\",\"frankfurt\",\"İsviçre\"]\n",
    "\n",
    "def gecen_ifade(deneme:list):\n",
    "    bos_liste = []\n",
    "    for kelime in deneme:\n",
    "        if \"fr\" in kelime:\n",
    "            bos_liste.append(kelime)\n",
    "    return bos_liste\n",
    "\n",
    "kelime_arama_fonk = gecen_ifade(my_list_4)\n",
    "kelime_arama_map = list(map(lambda x: \"fr\" in x,my_list_4))\n",
    "kelime_arama_filter = list(filter(lambda x: \"fr\" in x,my_list_4))\n",
    "\n",
    "print(f\"Sonuç (Normal fonksiyon ile) = {kelime_arama_fonk}\")\n",
    "print(\"-\"*50)\n",
    "print(f\"Sonuç (Map fonksiyonu ile) = {kelime_arama_map}\")\n",
    "print(\"-\"*50)\n",
    "print(f\"Sonuç (Filter fonksiyonu ile) = {kelime_arama_filter}\")"
   ]
  },
  {
   "cell_type": "code",
   "execution_count": 35,
   "id": "394743d5-a772-4270-bad8-18f44b81a730",
   "metadata": {},
   "outputs": [],
   "source": [
    "# Reduce fonksiyonu\n",
    "# parametre olarak aldığı listeyi daima 2 elemanla işleyen\n",
    "# ve geriye YALNIZCA TEK BİR DEĞER (SONUÇ) DÖNDÜREN özel bir fonksiyondur\n",
    "# Bu nedenle, geriye bir liste olarak dönmez, tek bir değer olarak döner"
   ]
  },
  {
   "cell_type": "code",
   "execution_count": 37,
   "id": "7edb735a-dab4-4d9b-bc39-d9d7600d4f10",
   "metadata": {},
   "outputs": [],
   "source": [
    "# tanımlanmadan önce import edilmelidir.\n",
    "# yani python'un hazır modülleri içerisinden çıkarılmadılır\n",
    "from functools import reduce"
   ]
  },
  {
   "cell_type": "code",
   "execution_count": 41,
   "id": "1b4a03fb-eb64-44cd-a2dc-31e5b6890d09",
   "metadata": {},
   "outputs": [
    {
     "name": "stdout",
     "output_type": "stream",
     "text": [
      "1'den 100'e kadar olan sayıların toplamı = 5050\n"
     ]
    }
   ],
   "source": [
    "# Bir listedeki tüm elemanların toplamını döndüren reduce fonksiyonu\n",
    "# 1'den 100'e kadar olan sayıların toplamı\n",
    "# reduce, geriye tek değer döndürdüğü için parametre olarak iki parametre \n",
    "# kullanılır, burada amaç iterable (liste vb) bir veri yapısının içindeyken\n",
    "# değişim işlemlerini yönetmektir.\n",
    "# iki parametre aslında şuna karşılık gelir\n",
    "# i'ninci eleman işlem i+1'inci eleman\n",
    "\n",
    "my_list_5 = [x for x in range(1,101)]\n",
    "sayi_toplam = reduce(lambda x,y:x+y,my_list_5)\n",
    "\n",
    "#sayi_toplam = list(map(lambda x,y:x+y,my_list_5,my_list_6))\n",
    "#\n",
    "#cift_eleman = list(filter(lambda x:x%2==0,my_list_4))\n",
    "#\n",
    "#def toplam_sayi(deneme:list):\n",
    "#    toplam = 0\n",
    "#    for deger in deneme:\n",
    "#        toplam = toplam + deger\n",
    "#    return toplam\n",
    "#    \n",
    "#def arama(deneme:list):\n",
    "#    bos_list = []\n",
    "#    for eleman in deneme:\n",
    "#        if eleman%2==0:\n",
    "#            bos_list.append(eleman)\n",
    "#    return bos_list\n",
    "\n",
    "# şöyle çalışır\n",
    "# listede ilk eleman 1, sonraki 2\n",
    "# 1+2 = 3\n",
    "# 3+3 = 6\n",
    "# 6+4 = 10\n",
    "# toplam = toplam + i\n",
    "\n",
    "print(f\"1'den 100'e kadar olan sayıların toplamı = {sayi_toplam}\")"
   ]
  },
  {
   "cell_type": "code",
   "execution_count": 43,
   "id": "fe8a471c-9b18-4d4b-b20e-dd9434f37ac3",
   "metadata": {},
   "outputs": [],
   "source": [
    "from functools import reduce"
   ]
  },
  {
   "cell_type": "code",
   "execution_count": 47,
   "id": "47508b3b-ffce-4c39-9f83-401118c94818",
   "metadata": {},
   "outputs": [
    {
     "name": "stdout",
     "output_type": "stream",
     "text": [
      "Listedeki en büyük sayı = 1013\n"
     ]
    }
   ],
   "source": [
    "# listedeki en büyük sayıyı bulan reduce kodu\n",
    "\n",
    "my_list_6 = [15,-7,963,256,-552,1013]\n",
    "# Nasıl Çalıştı?\n",
    "# ilk aşamada x= 15, y= -7 oldu\n",
    "# 15>7 sorusunun cevabı True döndü\n",
    "# ikinci aşamada x=15, y=963 oldu\n",
    "# 15>963 sorusunun cevabı False döndü\n",
    "# x = 256 oldu y yine aynı kaldu 963 oldu\n",
    "# 256>963 sorusunun cevabı False döndü\n",
    "# x = -552 oldu y yine aynı kaldı (963)\n",
    "# -552>963 sorusunun cevabı False oldu\n",
    "# x = 1013 oldu y yine 963 kaldı\n",
    "# 1013 > 963 sorusunun cevabı True oldu\n",
    "# dolayısıyla lambda x,y:x if x>y else y kodunda x yanıtı galip geldi\n",
    "# dönen değer 1013 oldu\n",
    "\n",
    "en_buyuk_eleman = reduce(lambda x,y: x if x>y else y,my_list_6)\n",
    "print(f\"Listedeki en büyük sayı = {en_buyuk_eleman}\")"
   ]
  },
  {
   "cell_type": "code",
   "execution_count": 51,
   "id": "a80cb51d-9fd5-46d1-acbe-8ca95244e930",
   "metadata": {},
   "outputs": [
    {
     "name": "stdout",
     "output_type": "stream",
     "text": [
      "1*2*3*4*5 = 120\n",
      " = True\n",
      "Normal fonksiyon ile faktöriyel = 120\n"
     ]
    }
   ],
   "source": [
    "# listedeki elemanların çarpımının toplamını veren kod\n",
    "my_list_7 = [x for x in range(1,6)]\n",
    "\n",
    "toplam_carpim = reduce(lambda x,y:x*y,my_list_7)\n",
    "print(f\"1*2*3*4*5 = {toplam_carpim}\")\n",
    "print(f\" = {1*2*3*4*5==toplam_carpim}\")\n",
    "\n",
    "def faktoriyel(deneme:list):\n",
    "    carpim = 1\n",
    "    for sayi in deneme:\n",
    "        carpim = carpim * sayi\n",
    "    return carpim\n",
    "\n",
    "print(f\"Normal fonksiyon ile faktöriyel = {faktoriyel(my_list_7)}\")"
   ]
  },
  {
   "cell_type": "code",
   "execution_count": 53,
   "id": "9a27c424-dc86-479a-8c6c-6b7a9a58e7ab",
   "metadata": {},
   "outputs": [
    {
     "name": "stdout",
     "output_type": "stream",
     "text": [
      "Listedeki en uzun kelime = Orta Düzey Programlama\n"
     ]
    }
   ],
   "source": [
    "# bir str değerlerinden oluşan listedeki en uzun kelimeyi bulan reduce kodu\n",
    "\n",
    "my_list_8 = [\"Burdur\",\"Makü\",\"Bucak ZTYO\",\"Furkan\",\"Yazılımcı\",\"Orta Düzey Programlama\"]\n",
    "\n",
    "en_uzun_kelime = reduce(lambda x,y:x if len(x)>len(y) else y,my_list_8)\n",
    "print(f\"Listedeki en uzun kelime = {en_uzun_kelime}\")"
   ]
  },
  {
   "cell_type": "code",
   "execution_count": 55,
   "id": "3e69dd1d-2f65-4787-9978-f1c1cbf4b8e6",
   "metadata": {},
   "outputs": [
    {
     "name": "stdout",
     "output_type": "stream",
     "text": [
      "Listedeki en kısa kelime = Makü\n"
     ]
    }
   ],
   "source": [
    "# bir str değerlerinden oluşan listedeki en uzun kelimeyi bulan reduce kodu\n",
    "\n",
    "my_list_8 = [\"Burdur\",\"Makü\",\"Bucak ZTYO\",\"Furkan\",\"Yazılımcı\",\"Orta Düzey Programlama\"]\n",
    "\n",
    "en_uzun_kelime = reduce(lambda x,y:x if len(x)<len(y) else y,my_list_8)\n",
    "print(f\"Listedeki en kısa kelime = {en_uzun_kelime}\")"
   ]
  },
  {
   "cell_type": "code",
   "execution_count": null,
   "id": "39f36cca-1bd9-4805-a513-535bb8cb2cd6",
   "metadata": {},
   "outputs": [],
   "source": []
  }
 ],
 "metadata": {
  "kernelspec": {
   "display_name": "Python 3 (ipykernel)",
   "language": "python",
   "name": "python3"
  },
  "language_info": {
   "codemirror_mode": {
    "name": "ipython",
    "version": 3
   },
   "file_extension": ".py",
   "mimetype": "text/x-python",
   "name": "python",
   "nbconvert_exporter": "python",
   "pygments_lexer": "ipython3",
   "version": "3.11.7"
  }
 },
 "nbformat": 4,
 "nbformat_minor": 5
}
