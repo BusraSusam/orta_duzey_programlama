{
 "cells": [
  {
   "cell_type": "code",
   "execution_count": 12,
   "id": "d506cb08-097d-413c-8eb1-ed396fbd943d",
   "metadata": {},
   "outputs": [
    {
     "name": "stdin",
     "output_type": "stream",
     "text": [
      "Lütfen bir tamsayı giriniz:  45r\n"
     ]
    }
   ],
   "source": [
    "# Girilen en az üç basamaklı bir tamsayının tüm bölenlerini hesaplayan kod\n",
    "# Sınırlılıklar:\n",
    "# 1) Öncelikle, girilen değerin bir tamsayı olup olmadığının kontrolü\n",
    "# 2) Eğer tamsayı değeri girilmişse bu tamsayının en az 3 basamaklı bir\n",
    "# tamsayı olup olmadığının kontrolü\n",
    "\n",
    "sayi = input(\"Lütfen bir tamsayı giriniz: \")\n",
    "\n",
    "try:\n",
    "    if sayi.lstrip('-').isdigit():#girilen sayının tamsayı olup olmadığını kontrol ediyoruz\n",
    "        my_num = int(sayi) # girilen değeri int tipine dönüştürdük\n",
    "        if my_num>100:\n",
    "            bolenler = []\n",
    "            sayac = 0\n",
    "            for i in range(1,my_num):\n",
    "                if my_num%i==0:\n",
    "                    sayac = sayac + 1\n",
    "                    #sayac+=1\n",
    "                    bolenler.append(i)\n",
    "            print(f\"{sayi} sayısının {sayac} adet böleni bulundu\")\n",
    "            for sayilar in bolenler:\n",
    "                print(sayilar)\n",
    "        else:\n",
    "            print(\"Lütfen 100'den büyük bir tamsayı giriniz\")\n",
    "\n",
    "except Exception as e:\n",
    "    print(f\"Hata = {e}\")"
   ]
  },
  {
   "cell_type": "code",
   "execution_count": 23,
   "id": "54ad704c-beeb-4c82-a0b7-546b2a834e4a",
   "metadata": {},
   "outputs": [
    {
     "name": "stdout",
     "output_type": "stream",
     "text": [
      "Cümlenin Orijinal Hali\n",
      "Orta Çağ Dönemi, KİLİSE'nin aşırı despot ve katı tutumuyla insanları yaşadığına pişman eden, üzen karanlık bir dönemdir\n",
      "**************************************************\n",
      "\n",
      "Cümlenin İşlenmiş Hali\n",
      " = Orta Cağ Donemi, KİLİSE'nin aşırı despot ve katı tutumuyla insanları yaşadığına pişman eden, üzen karanlık bir donemdir\n"
     ]
    }
   ],
   "source": [
    "# Bir Türkçe cümledeki Türkçe karakterleri İngilizcedeki karşılıkları ile\n",
    "# değiştiren kod\n",
    "\n",
    "# Yöntem-1 (replace ile)\n",
    "my_sentence = \"Orta Çağ Dönemi, KİLİSE'nin aşırı despot ve katı tutumuyla insanları yaşadığına pişman eden, üzen karanlık bir dönemdir\"\n",
    "\n",
    "print(f\"Cümlenin Orijinal Hali\\n{my_sentence}\")\n",
    "\n",
    "my_sentence = my_sentence.replace(\"Ç\",\"C\").replace(\"ö\",\"o\")\n",
    "\n",
    "print(\"*\"*50)\n",
    "print(f\"\\nCümlenin İşlenmiş Hali\\n = {my_sentence}\")"
   ]
  },
  {
   "cell_type": "code",
   "execution_count": 35,
   "id": "200316cb-c1d0-4a2a-b466-3072c255a2a3",
   "metadata": {},
   "outputs": [
    {
     "name": "stdout",
     "output_type": "stream",
     "text": [
      "Cümlenin Orijinal Hali\n",
      "Orta Çağ Dönemi, KİLİSE'nin aşırı despot ve katı tutumuyla insanları yaşadığına pişman eden, üzen karanlık bir dönemdir\n",
      "**************************************************\n",
      "\n",
      "Cümlenin İşlenmiş Hali\n",
      " = Orta Cag Donemi, KILISE'nin asiri despot ve kati tutumuyla insanlari yasadigina pisman eden, uzen karanlik bir donemdir\n"
     ]
    }
   ],
   "source": [
    "#Yöntem-2 (Dictionary veri yapısı ile)\n",
    "\n",
    "my_sentence = \"Orta Çağ Dönemi, KİLİSE'nin aşırı despot ve katı tutumuyla insanları yaşadığına pişman eden, üzen karanlık bir dönemdir\"\n",
    "\n",
    "print(f\"Cümlenin Orijinal Hali\\n{my_sentence}\")\n",
    "\n",
    "\n",
    "translate_turkish_to_english = {\n",
    "    'Ç':'C', 'ç':'c', 'İ':'I', 'ı':'i', 'Ğ':'G','ğ':'g',\n",
    "    'Ö':'O', 'ö':'o', 'Ü':'U', 'ü':'u', 'Ş':'S', 'ş':'s'\n",
    "}\n",
    "\n",
    "print(\"*\"*50)\n",
    "\n",
    "for turkish_character, english_character in translate_turkish_to_english.items():\n",
    "    my_sentence = my_sentence.replace(turkish_character, english_character)\n",
    "\n",
    "print(f\"\\nCümlenin İşlenmiş Hali\\n = {my_sentence}\")"
   ]
  },
  {
   "cell_type": "code",
   "execution_count": null,
   "id": "d4185819-485d-40ab-a79d-f1f957e5d750",
   "metadata": {},
   "outputs": [],
   "source": []
  },
  {
   "cell_type": "code",
   "execution_count": 90,
   "id": "0fbdc57a-2a75-440d-a0a4-f328b9d15529",
   "metadata": {},
   "outputs": [
    {
     "name": "stdout",
     "output_type": "stream",
     "text": [
      "Çalışanların İlk maaşları = [100000, 55250, 38960, 205450, 75893, 45632]\n",
      "Çalışanların Zamlı maaşları = [140000.0, 77350.0, 54544.0, 287630.0, 106250.2, 63884.799999999996]\n"
     ]
    }
   ],
   "source": [
    "calisanlar = {\"maas\":[100000,55250,38960,205450,75893,45632]}\n",
    "\n",
    "# maas sütünundaki değerleri bir değişkene atıyoruz\n",
    "salary_values = calisanlar[\"maas\"]\n",
    "\n",
    "zamli_maas = []\n",
    "\n",
    "for orijinal_maas in salary_values:\n",
    "    zamli_maas.append(orijinal_maas*1.4)\n",
    "\n",
    "print(f\"Çalışanların İlk maaşları = {salary_values}\")\n",
    "print(f\"Çalışanların Zamlı maaşları = {zamli_maas}\")"
   ]
  },
  {
   "cell_type": "code",
   "execution_count": null,
   "id": "b3b643d9-e948-4c4a-9df1-bad8ce1e08bd",
   "metadata": {},
   "outputs": [],
   "source": []
  }
 ],
 "metadata": {
  "kernelspec": {
   "display_name": "tf_gpu_2_9_2",
   "language": "python",
   "name": "tf_gpu_2_9_2"
  },
  "language_info": {
   "codemirror_mode": {
    "name": "ipython",
    "version": 3
   },
   "file_extension": ".py",
   "mimetype": "text/x-python",
   "name": "python",
   "nbconvert_exporter": "python",
   "pygments_lexer": "ipython3",
   "version": "3.10.14"
  }
 },
 "nbformat": 4,
 "nbformat_minor": 5
}
