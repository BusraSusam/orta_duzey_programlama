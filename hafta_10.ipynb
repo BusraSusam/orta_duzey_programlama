{
 "cells": [
  {
   "cell_type": "code",
   "execution_count": 1,
   "id": "c5de9c2d-257a-4192-85c6-bf16e0e751d1",
   "metadata": {},
   "outputs": [],
   "source": [
    "# Decorators (Dekoratörler): Python'da dekoratörler, fonksiyondan fonksiyon\n",
    "# döndüren özel yapılardır.\n",
    "\n",
    "# Bir dekoratör, bir fonksiyonun çalışma prensibini değiştirir veya genişletir\n",
    "# Bir dekoratör, bir defa yazılıp, tüm fonksiyonlara uygulanabilir.\n",
    "# En önemli faydası kod tekrarını azaltmaktır!!!"
   ]
  },
  {
   "cell_type": "code",
   "execution_count": 3,
   "id": "78fe3b6e-5f61-495d-a76f-f5c6b0c16fe8",
   "metadata": {},
   "outputs": [
    {
     "name": "stdout",
     "output_type": "stream",
     "text": [
      "Orijinal fonksiyondan önce dekoratör çalışıyor...\n",
      "Orijinal Fonksiyon Çalışıyor...!!!\n",
      "Orijinal fonksiyondan sonra dekoratör çalışıyor...\n"
     ]
    }
   ],
   "source": [
    "# Bir dekoratör aşağıdaki gibi tanımlanır\n",
    "\n",
    "def my_decorator(parametre_verilen_fonksiyon):\n",
    "    def wrapper():\n",
    "        print(\"Orijinal fonksiyondan önce dekoratör çalışıyor...\")\n",
    "        parametre_verilen_fonksiyon()\n",
    "        print(\"Orijinal fonksiyondan sonra dekoratör çalışıyor...\")\n",
    "    return wrapper\n",
    "\n",
    "# Yukarıdaki gibi tanımlanan bir dekoratör, bir fonksiyona\n",
    "# aşağıdaki gibi uygulanır\n",
    "\n",
    "@my_decorator\n",
    "def my_func():\n",
    "    print(\"Orijinal Fonksiyon Çalışıyor...!!!\")\n",
    "\n",
    "my_func()"
   ]
  },
  {
   "cell_type": "code",
   "execution_count": 5,
   "id": "7a5e393c-6951-4ee7-bc2a-e4c615ba8fdd",
   "metadata": {},
   "outputs": [
    {
     "name": "stdout",
     "output_type": "stream",
     "text": [
      "Loglama işlemi başladı...\n",
      "Sistem girişi başarılı. Tebrikler!\n",
      "Loglama işlemi sonlandı...\n"
     ]
    }
   ],
   "source": [
    "# Loglama işlemi örneği\n",
    "\n",
    "def my_log_decorator(yeni_fonk):\n",
    "    def ic_fonksiyon():\n",
    "        print(\"Loglama işlemi başladı...\")\n",
    "        yeni_fonk()\n",
    "        print(\"Loglama işlemi sonlandı...\")\n",
    "    return ic_fonksiyon\n",
    "\n",
    "@my_log_decorator\n",
    "def my_login_operations():\n",
    "    print(\"Sistem girişi başarılı. Tebrikler!\")\n",
    "\n",
    "my_login_operations()"
   ]
  },
  {
   "cell_type": "code",
   "execution_count": 7,
   "id": "1a342416-66cb-4281-a7c3-1d2f438766f8",
   "metadata": {},
   "outputs": [
    {
     "name": "stdout",
     "output_type": "stream",
     "text": [
      "Fonksiyon birazdan çalışacak...\n",
      "Fonksiyonun çalışması sonlandı...\n",
      "Toplama işleminin sonucu = 40\n"
     ]
    }
   ],
   "source": [
    "# Parametreli ve geriye değer döndüren fonksiyonlarda dekoratör kullanımı\n",
    "\n",
    "# Loglama işlemine dayalı örnek\n",
    "\n",
    "def my_decorator_1(my_func_1):\n",
    "    def my_wrapper_1(*args,**kwargs):\n",
    "        print(\"Fonksiyon birazdan çalışacak...\")\n",
    "        sonuc = my_func_1(*args,**kwargs)\n",
    "        print(\"Fonksiyonun çalışması sonlandı...\")\n",
    "        return sonuc\n",
    "    return my_wrapper_1\n",
    "\n",
    "@my_decorator_1\n",
    "def my_math_calc_1(a,b):\n",
    "    return a+b\n",
    "\n",
    "print(f\"Toplama işleminin sonucu = {my_math_calc_1(15,25)}\")\n"
   ]
  },
  {
   "cell_type": "code",
   "execution_count": 9,
   "id": "98bb4b3a-5dcf-453a-9ca8-9eb4dd460cb9",
   "metadata": {},
   "outputs": [
    {
     "name": "stdout",
     "output_type": "stream",
     "text": [
      "Geçen süre = 1.5030\n"
     ]
    }
   ],
   "source": [
    "# bir işlem için, işlem süresinin hesaplanması\n",
    "\n",
    "import time\n",
    "\n",
    "baslangic = time.time() # o anki zaman bilgisi\n",
    "time.sleep(1.5)\n",
    "bitis = time.time() # o anki zaman bilgisi (1 buçuk saniye geçmiş zaten)\n",
    "\n",
    "# son an ile ilk anı birbirinden çıkarıyoruz ve zaman farkını buluyoruz.\n",
    "print(f\"Geçen süre = {bitis-baslangic:.4f}\")"
   ]
  },
  {
   "cell_type": "code",
   "execution_count": 17,
   "id": "a448bda5-e761-4982-928d-dad8f2263505",
   "metadata": {},
   "outputs": [
    {
     "name": "stdout",
     "output_type": "stream",
     "text": [
      "Fonksiyon çalışmaya başladı...\n",
      "math_operations_1 fonksiyonu 0.806339025497 saniye sürdü\n",
      "Sonuç = 3249\n"
     ]
    }
   ],
   "source": [
    "# Dışarıdan girilen tek sayıların karesini, çift sayıların küpünü alan\n",
    "# fonksiyon yazınız\n",
    "# bu fonksiyon için de bir dekoratör yazınız.\n",
    "# Dekoratör ile bu fonksiyon çalışmadan önce bilgi verecek (fonk çalışıyor vb)\n",
    "# fonksiyon bittikten sonra da süre bilgisini verecek\n",
    "\n",
    "def my_dec_2(my_func_2):\n",
    "    def my_wrapper_2(*args,**kwargs):\n",
    "        basla = time.time()\n",
    "        time.sleep(0.8)\n",
    "        print(\"Fonksiyon çalışmaya başladı...\")\n",
    "        sonuc = my_func_2(*args,**kwargs)\n",
    "        bitis = time.time()\n",
    "        print(f\"{my_func_2.__name__} fonksiyonu {bitis-basla:.12f} saniye sürdü\")\n",
    "        return sonuc\n",
    "    return my_wrapper_2\n",
    "\n",
    "@my_dec_2\n",
    "def math_operations_1(sayi):\n",
    "    if sayi%2==0:\n",
    "        return sayi**3\n",
    "    return sayi**2\n",
    "\n",
    "print(f\"Sonuç = {math_operations_1(57)}\")"
   ]
  },
  {
   "cell_type": "code",
   "execution_count": 23,
   "id": "0ea94797-9ef1-44e5-bbe1-9e100f288579",
   "metadata": {},
   "outputs": [
    {
     "name": "stdout",
     "output_type": "stream",
     "text": [
      "1\n",
      "2\n",
      "3\n",
      "4\n",
      "5\n"
     ]
    }
   ],
   "source": [
    "# Generators, normal fonksiyonlar return ile değer döndürür.\n",
    "# Generators ise her bir değeri tek tek işler, hafızayı işgal etmez.\n",
    "# Tek bir değer kadar hafızayı kullanır\n",
    "# Anahtar kelime olarak da return yerine yield kullanır.\n",
    "\n",
    "# Aşağıdaki fonksiyon aslında bir Generators tanımlamasıdır.\n",
    "\n",
    "def sayilar():\n",
    "    yield 1\n",
    "    yield 2\n",
    "    yield 3\n",
    "    yield 4\n",
    "    yield 5\n",
    "\n",
    "# Generators, bellekten tek bir işlemlik yer ayırdığı için\n",
    "# Genrators'u çalıştırırken-çağırırken for döngüsü kullanırızç\n",
    "# Hatırlarsanız, for döngüsü elemanlara tek tek erişim sağlıyordu.\n",
    "\n",
    "for sayi in sayilar():\n",
    "    print(sayi)"
   ]
  },
  {
   "cell_type": "code",
   "execution_count": 25,
   "id": "0d60c34a-c3a8-4851-9262-51b78859b107",
   "metadata": {},
   "outputs": [
    {
     "name": "stdout",
     "output_type": "stream",
     "text": [
      "[1, 4, 9, 16, 25]\n"
     ]
    }
   ],
   "source": [
    "# List expression (comprehension)\n",
    "\n",
    "my_list_1 = [x**2 for x in range(1,6)]\n",
    "print(my_list_1)"
   ]
  },
  {
   "cell_type": "code",
   "execution_count": 29,
   "id": "d95541ad-7d58-486f-9414-b513f9664230",
   "metadata": {},
   "outputs": [
    {
     "name": "stdout",
     "output_type": "stream",
     "text": [
      "<class 'generator'>\n",
      "1\n",
      "4\n",
      "9\n",
      "16\n",
      "25\n"
     ]
    }
   ],
   "source": [
    "# Generators expressions\n",
    "\n",
    "my_gen_1 = (x**2 for x in range(1,6))\n",
    "print(type(my_gen_1))\n",
    "\n",
    "for sayi in my_gen_1:\n",
    "    print(sayi)"
   ]
  },
  {
   "cell_type": "code",
   "execution_count": 35,
   "id": "ae40f5c4-80b3-4f3f-ae7c-6f4f753e319d",
   "metadata": {},
   "outputs": [
    {
     "name": "stdout",
     "output_type": "stream",
     "text": [
      "<function deneme at 0x000001C598DFB430>\n"
     ]
    }
   ],
   "source": [
    "def deneme():\n",
    "    print(\"Hello World!\")\n",
    "\n",
    "print(deneme)"
   ]
  },
  {
   "cell_type": "code",
   "execution_count": null,
   "id": "bc5ea243-d4ac-4ce4-b3f2-d07e979b6892",
   "metadata": {},
   "outputs": [],
   "source": []
  }
 ],
 "metadata": {
  "kernelspec": {
   "display_name": "my_tf_3",
   "language": "python",
   "name": "my_tf_3"
  },
  "language_info": {
   "codemirror_mode": {
    "name": "ipython",
    "version": 3
   },
   "file_extension": ".py",
   "mimetype": "text/x-python",
   "name": "python",
   "nbconvert_exporter": "python",
   "pygments_lexer": "ipython3",
   "version": "3.9.20"
  }
 },
 "nbformat": 4,
 "nbformat_minor": 5
}
