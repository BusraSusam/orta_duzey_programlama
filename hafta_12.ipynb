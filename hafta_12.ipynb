{
 "cells": [
  {
   "cell_type": "code",
   "execution_count": 5,
   "id": "44c55cd9-c488-4d25-b719-ae29caa93cb6",
   "metadata": {},
   "outputs": [],
   "source": [
    "import numpy as np\n",
    "import pandas as pd"
   ]
  },
  {
   "cell_type": "code",
   "execution_count": 6,
   "id": "60dd5df8-f3a4-4162-8de8-01209ad9c5f5",
   "metadata": {},
   "outputs": [],
   "source": [
    "# pd.Series(), Tek bir sütun olarak verileri işler, numpy array'in birebir\n",
    "# aynı işlevini görür. En önemli farkı, indeksleme işlemi için\n",
    "# kullanıcıya kendi indeks değerlerini belirleme fırsatı sunar."
   ]
  },
  {
   "cell_type": "code",
   "execution_count": 7,
   "id": "9f14dc27-a0e1-4a9e-b32e-2bc33e83d199",
   "metadata": {},
   "outputs": [
    {
     "data": {
      "text/plain": [
       "a    1\n",
       "b    2\n",
       "c    3\n",
       "d    4\n",
       "e    5\n",
       "f    6\n",
       "dtype: int64"
      ]
     },
     "execution_count": 7,
     "metadata": {},
     "output_type": "execute_result"
    }
   ],
   "source": [
    "# Basit bir pd.Series tanımlayalım\n",
    "\n",
    "my_series_1 = pd.Series([1,2,3,4,5,6], index=[\"a\",\"b\",\"c\",\"d\",\"e\",\"f\"])\n",
    "my_series_1"
   ]
  },
  {
   "cell_type": "code",
   "execution_count": 8,
   "id": "8899fbbd-d5cf-4bbc-b622-8b73d76c770f",
   "metadata": {},
   "outputs": [
    {
     "name": "stdout",
     "output_type": "stream",
     "text": [
      "Seri'nin tipi = <class 'pandas.core.series.Series'>\n"
     ]
    }
   ],
   "source": [
    "# pd.Series() için en sık kullanılan özellikler\n",
    "\n",
    "print(f\"Seri'nin tipi = {type(my_series_1)}\")"
   ]
  },
  {
   "cell_type": "code",
   "execution_count": 9,
   "id": "57de023a-55d9-4b06-8de3-4b5b53224665",
   "metadata": {},
   "outputs": [
    {
     "name": "stdout",
     "output_type": "stream",
     "text": [
      "Serinin aksisleri = [Index(['a', 'b', 'c', 'd', 'e', 'f'], dtype='object')]\n"
     ]
    }
   ],
   "source": [
    "print(f\"Serinin aksisleri = {my_series_1.axes}\")"
   ]
  },
  {
   "cell_type": "code",
   "execution_count": 10,
   "id": "4e1b9b74-67fd-47d5-bb1c-a595f56601f4",
   "metadata": {},
   "outputs": [
    {
     "name": "stdout",
     "output_type": "stream",
     "text": [
      "Serinin indeksleri = Index(['a', 'b', 'c', 'd', 'e', 'f'], dtype='object')\n"
     ]
    }
   ],
   "source": [
    "print(f\"Serinin indeksleri = {my_series_1.index}\")"
   ]
  },
  {
   "cell_type": "code",
   "execution_count": 11,
   "id": "e19f57a7-b32b-43b5-8946-eb3ba17cab92",
   "metadata": {},
   "outputs": [
    {
     "name": "stdout",
     "output_type": "stream",
     "text": [
      "Serinin Veri tipi = int64\n"
     ]
    }
   ],
   "source": [
    "print(f\"Serinin Veri tipi = {my_series_1.dtype}\")"
   ]
  },
  {
   "cell_type": "code",
   "execution_count": 12,
   "id": "c5c1bd27-ef74-4c6f-b36b-4fa2b5c37f14",
   "metadata": {},
   "outputs": [
    {
     "name": "stdout",
     "output_type": "stream",
     "text": [
      "Serinin tuttuğu değerler = [1 2 3 4 5 6]\n",
      "Serinin tuttuğu değerlerin tipi = <class 'numpy.ndarray'>\n"
     ]
    }
   ],
   "source": [
    "print(f\"Serinin tuttuğu değerler = {my_series_1.values}\")\n",
    "print(f\"Serinin tuttuğu değerlerin tipi = {type(my_series_1.values)}\")"
   ]
  },
  {
   "cell_type": "code",
   "execution_count": 13,
   "id": "ae289564-b8f7-40a0-aa7c-69e3250ddbce",
   "metadata": {},
   "outputs": [
    {
     "name": "stdout",
     "output_type": "stream",
     "text": [
      "ilk 5 değer = a    1\n",
      "b    2\n",
      "c    3\n",
      "d    4\n",
      "e    5\n",
      "dtype: int64\n"
     ]
    }
   ],
   "source": [
    "# .head() fonksiyonu, varsayılan olarak ilk 5 değeri getirir\n",
    "print(f\"ilk 5 değer = {my_series_1.head()}\")\n",
    "\n",
    "# ilk 100 değeri getirmek istersek (eğer 100 değerden fazla örneğimiz olsaydı)\n",
    "# aşağıdaki şekilde kullanırdık my_series_1.head(100)"
   ]
  },
  {
   "cell_type": "code",
   "execution_count": 14,
   "id": "7259ae11-3494-465b-819b-3f06caebc957",
   "metadata": {},
   "outputs": [
    {
     "name": "stdout",
     "output_type": "stream",
     "text": [
      "b    2\n",
      "c    3\n",
      "d    4\n",
      "e    5\n",
      "f    6\n",
      "dtype: int64\n"
     ]
    }
   ],
   "source": [
    "# head() fonksiyonunun tersi olan tail() fonksiyonu\n",
    "# içine parametre vermezseniz varsayılan olarak son 5 değeri getirir\n",
    "\n",
    "print(my_series_1.tail())"
   ]
  },
  {
   "cell_type": "code",
   "execution_count": 15,
   "id": "8992ad39-6068-4f00-9e9e-e33296a60a18",
   "metadata": {},
   "outputs": [
    {
     "data": {
      "text/plain": [
       "a    1\n",
       "b    2\n",
       "dtype: int64"
      ]
     },
     "execution_count": 15,
     "metadata": {},
     "output_type": "execute_result"
    }
   ],
   "source": [
    "# İndekslemeler:\n",
    "my_series_1[0:2]"
   ]
  },
  {
   "cell_type": "code",
   "execution_count": 16,
   "id": "e3715cfe-e3df-4084-9b01-50b1b712b12b",
   "metadata": {},
   "outputs": [
    {
     "data": {
      "text/plain": [
       "a    1\n",
       "b    2\n",
       "c    3\n",
       "dtype: int64"
      ]
     },
     "execution_count": 16,
     "metadata": {},
     "output_type": "execute_result"
    }
   ],
   "source": [
    "# Object temelli indeksleme\n",
    "my_series_1[:\"c\"]"
   ]
  },
  {
   "cell_type": "code",
   "execution_count": 17,
   "id": "b29a08bd-3d74-42de-b0df-77042787976f",
   "metadata": {},
   "outputs": [],
   "source": [
    "# Pandas'ta sayı temelli indeksleme için başka bir fonksiyon\n",
    "# değer temelli indeksleme için başka bir fonksiyon kullanılır\n"
   ]
  },
  {
   "cell_type": "code",
   "execution_count": 18,
   "id": "bb0acca5-0638-46f0-8a04-efdab24d2576",
   "metadata": {},
   "outputs": [
    {
     "name": "stdout",
     "output_type": "stream",
     "text": [
      "a    1\n",
      "b    2\n",
      "c    3\n",
      "dtype: int64\n"
     ]
    }
   ],
   "source": [
    "# Değer temelli indeksleme\n",
    "print(my_series_1.loc[:\"c\"]) # loc=location'ın kısaltmasıdır"
   ]
  },
  {
   "cell_type": "code",
   "execution_count": 19,
   "id": "123793d7-2239-4373-b234-59d81339ce20",
   "metadata": {},
   "outputs": [
    {
     "name": "stdout",
     "output_type": "stream",
     "text": [
      "a    1\n",
      "b    2\n",
      "dtype: int64\n"
     ]
    }
   ],
   "source": [
    "# Numara (integer) temelli indeksleme\n",
    "print(my_series_1.iloc[:2]) #integerlocation = iloc"
   ]
  },
  {
   "cell_type": "code",
   "execution_count": 20,
   "id": "23b63262-f3c3-44d5-a814-f276658eea51",
   "metadata": {},
   "outputs": [
    {
     "data": {
      "text/plain": [
       "ogrenci_1    Furkan\n",
       "ogrenci_2     Ahmet\n",
       "ogrenci_3    Veysel\n",
       "dtype: object"
      ]
     },
     "execution_count": 20,
     "metadata": {},
     "output_type": "execute_result"
    }
   ],
   "source": [
    "# Dictionary yapısını Series'e çevirme\n",
    "my_dict_1 = {\"ogrenci_1\":\"Furkan\",\"ogrenci_2\":\"Ahmet\",\"ogrenci_3\":\"Veysel\"}\n",
    "\n",
    "my_series_2 = pd.Series(my_dict_1)\n",
    "my_series_2"
   ]
  },
  {
   "cell_type": "code",
   "execution_count": 21,
   "id": "124d80c9-9d72-4bd0-9f2b-29e2fa23bb33",
   "metadata": {},
   "outputs": [
    {
     "data": {
      "text/plain": [
       "a                 1\n",
       "b                 2\n",
       "c                 3\n",
       "d                 4\n",
       "e                 5\n",
       "f                 6\n",
       "ogrenci_1    Furkan\n",
       "ogrenci_2     Ahmet\n",
       "ogrenci_3    Veysel\n",
       "dtype: object"
      ]
     },
     "execution_count": 21,
     "metadata": {},
     "output_type": "execute_result"
    }
   ],
   "source": [
    "# Series tipindeki verileri birleştirme\n",
    "\n",
    "my_series_3 = pd.concat([my_series_1, my_series_2])\n",
    "my_series_3"
   ]
  },
  {
   "cell_type": "code",
   "execution_count": 22,
   "id": "f1a8170a-11c9-438a-b1a9-7e21e856ca16",
   "metadata": {},
   "outputs": [],
   "source": [
    "#DataFrame, Series'lerin genişletilmiş ve daha kapsamlı-daha güçlü halidir.\n",
    "# ÖZellikle, excel tabanlı işlemler için oldukça idealdir.\n",
    "# Kendi yapısı içerisinde barındırdığı özellikler ve fonksiyonlar sayesinde\n",
    "# başlı başına bir veri yapısı gibi davranır: Json, XML, excel, csv gibi\n",
    "# veri yapılarını işlemede şu an piyasada en sık kullanılan veri işleme modülüdür.\n"
   ]
  },
  {
   "cell_type": "code",
   "execution_count": 43,
   "id": "e27c1572-bdbf-4991-b6a8-dc4e48aabed7",
   "metadata": {},
   "outputs": [
    {
     "data": {
      "text/html": [
       "<div>\n",
       "<style scoped>\n",
       "    .dataframe tbody tr th:only-of-type {\n",
       "        vertical-align: middle;\n",
       "    }\n",
       "\n",
       "    .dataframe tbody tr th {\n",
       "        vertical-align: top;\n",
       "    }\n",
       "\n",
       "    .dataframe thead th {\n",
       "        text-align: right;\n",
       "    }\n",
       "</style>\n",
       "<table border=\"1\" class=\"dataframe\">\n",
       "  <thead>\n",
       "    <tr style=\"text-align: right;\">\n",
       "      <th></th>\n",
       "      <th>0</th>\n",
       "    </tr>\n",
       "  </thead>\n",
       "  <tbody>\n",
       "    <tr>\n",
       "      <th>0</th>\n",
       "      <td>1</td>\n",
       "    </tr>\n",
       "    <tr>\n",
       "      <th>1</th>\n",
       "      <td>2</td>\n",
       "    </tr>\n",
       "    <tr>\n",
       "      <th>2</th>\n",
       "      <td>3</td>\n",
       "    </tr>\n",
       "    <tr>\n",
       "      <th>3</th>\n",
       "      <td>4</td>\n",
       "    </tr>\n",
       "    <tr>\n",
       "      <th>4</th>\n",
       "      <td>5</td>\n",
       "    </tr>\n",
       "  </tbody>\n",
       "</table>\n",
       "</div>"
      ],
      "text/plain": [
       "   0\n",
       "0  1\n",
       "1  2\n",
       "2  3\n",
       "3  4\n",
       "4  5"
      ]
     },
     "execution_count": 43,
     "metadata": {},
     "output_type": "execute_result"
    }
   ],
   "source": [
    "# Basit bir DataFrame tanımlayalım\n",
    "\n",
    "my_list_1 = [x for x in range(1,6)]\n",
    "\n",
    "my_df = pd.DataFrame(my_list_1)\n",
    "my_df"
   ]
  },
  {
   "cell_type": "code",
   "execution_count": 49,
   "id": "09fb8119-a878-42e3-a04b-1472792ad12e",
   "metadata": {},
   "outputs": [
    {
     "data": {
      "text/html": [
       "<div>\n",
       "<style scoped>\n",
       "    .dataframe tbody tr th:only-of-type {\n",
       "        vertical-align: middle;\n",
       "    }\n",
       "\n",
       "    .dataframe tbody tr th {\n",
       "        vertical-align: top;\n",
       "    }\n",
       "\n",
       "    .dataframe thead th {\n",
       "        text-align: right;\n",
       "    }\n",
       "</style>\n",
       "<table border=\"1\" class=\"dataframe\">\n",
       "  <thead>\n",
       "    <tr style=\"text-align: right;\">\n",
       "      <th></th>\n",
       "      <th>Yaş</th>\n",
       "      <th>Kilo</th>\n",
       "      <th>Boy</th>\n",
       "    </tr>\n",
       "  </thead>\n",
       "  <tbody>\n",
       "    <tr>\n",
       "      <th>0</th>\n",
       "      <td>64</td>\n",
       "      <td>62</td>\n",
       "      <td>174</td>\n",
       "    </tr>\n",
       "    <tr>\n",
       "      <th>1</th>\n",
       "      <td>74</td>\n",
       "      <td>74</td>\n",
       "      <td>155</td>\n",
       "    </tr>\n",
       "    <tr>\n",
       "      <th>2</th>\n",
       "      <td>45</td>\n",
       "      <td>58</td>\n",
       "      <td>182</td>\n",
       "    </tr>\n",
       "    <tr>\n",
       "      <th>3</th>\n",
       "      <td>65</td>\n",
       "      <td>91</td>\n",
       "      <td>190</td>\n",
       "    </tr>\n",
       "    <tr>\n",
       "      <th>4</th>\n",
       "      <td>25</td>\n",
       "      <td>75</td>\n",
       "      <td>186</td>\n",
       "    </tr>\n",
       "    <tr>\n",
       "      <th>5</th>\n",
       "      <td>34</td>\n",
       "      <td>99</td>\n",
       "      <td>161</td>\n",
       "    </tr>\n",
       "    <tr>\n",
       "      <th>6</th>\n",
       "      <td>25</td>\n",
       "      <td>108</td>\n",
       "      <td>162</td>\n",
       "    </tr>\n",
       "  </tbody>\n",
       "</table>\n",
       "</div>"
      ],
      "text/plain": [
       "   Yaş  Kilo  Boy\n",
       "0   64    62  174\n",
       "1   74    74  155\n",
       "2   45    58  182\n",
       "3   65    91  190\n",
       "4   25    75  186\n",
       "5   34    99  161\n",
       "6   25   108  162"
      ]
     },
     "execution_count": 49,
     "metadata": {},
     "output_type": "execute_result"
    }
   ],
   "source": [
    "# 3 sütun'dan (key'den) oluşan bir dictionary tanımlayın\n",
    "# 1. sütun=> ismi: Yaş (20 ile 75 arasında rastgele 7 değer)\n",
    "# 2. sütun=> ismi: Kilo (55 ile 120 kg arasında rastgele 7 değer)\n",
    "# 3. sütun=> ismi: Boy (150 ile 200 cm arasında rastgele 7 değer)\n",
    "\n",
    "col_age = np.random.randint(20,75,size=7)\n",
    "col_weight = np.random.randint(55,120, size=7)\n",
    "col_height = np.random.randint(150,200, size=7)\n",
    "\n",
    "my_dict_2 = {\"Yaş\":col_age,\"Kilo\":col_weight,\"Boy\":col_height}\n",
    "my_df_1 = pd.DataFrame.from_dict(my_dict_2)\n",
    "my_df_1"
   ]
  },
  {
   "cell_type": "code",
   "execution_count": 47,
   "id": "3e305ca8-a722-4a5d-850b-e54723eb29a1",
   "metadata": {},
   "outputs": [
    {
     "data": {
      "text/plain": [
       "array([50, 61, 50, 69, 60, 61, 46], dtype=int32)"
      ]
     },
     "execution_count": 47,
     "metadata": {},
     "output_type": "execute_result"
    }
   ],
   "source": [
    "col_age"
   ]
  },
  {
   "cell_type": "code",
   "execution_count": 53,
   "id": "72957582-579a-4e61-943b-37afdf5e33d4",
   "metadata": {},
   "outputs": [
    {
     "name": "stdout",
     "output_type": "stream",
     "text": [
      "<class 'pandas.core.indexes.range.RangeIndex'>\n"
     ]
    }
   ],
   "source": [
    "my_df_1.index\n",
    "print(type(my_df_1.index))"
   ]
  },
  {
   "cell_type": "code",
   "execution_count": 55,
   "id": "2367c0f5-64ee-48c0-86fa-970a896c738a",
   "metadata": {},
   "outputs": [
    {
     "data": {
      "text/plain": [
       "[0, 1, 2, 3, 4, 5, 6]"
      ]
     },
     "execution_count": 55,
     "metadata": {},
     "output_type": "execute_result"
    }
   ],
   "source": [
    "my_list_index = list(my_df_1.index)\n",
    "my_list_index"
   ]
  },
  {
   "cell_type": "code",
   "execution_count": 57,
   "id": "88f36add-f802-430a-a68d-1d5d1b41ce14",
   "metadata": {},
   "outputs": [
    {
     "data": {
      "text/html": [
       "<div>\n",
       "<style scoped>\n",
       "    .dataframe tbody tr th:only-of-type {\n",
       "        vertical-align: middle;\n",
       "    }\n",
       "\n",
       "    .dataframe tbody tr th {\n",
       "        vertical-align: top;\n",
       "    }\n",
       "\n",
       "    .dataframe thead th {\n",
       "        text-align: right;\n",
       "    }\n",
       "</style>\n",
       "<table border=\"1\" class=\"dataframe\">\n",
       "  <thead>\n",
       "    <tr style=\"text-align: right;\">\n",
       "      <th></th>\n",
       "      <th>Yaş</th>\n",
       "      <th>Kilo</th>\n",
       "      <th>Boy</th>\n",
       "    </tr>\n",
       "  </thead>\n",
       "  <tbody>\n",
       "    <tr>\n",
       "      <th>Furkan</th>\n",
       "      <td>64</td>\n",
       "      <td>62</td>\n",
       "      <td>174</td>\n",
       "    </tr>\n",
       "    <tr>\n",
       "      <th>Ahmet</th>\n",
       "      <td>74</td>\n",
       "      <td>74</td>\n",
       "      <td>155</td>\n",
       "    </tr>\n",
       "    <tr>\n",
       "      <th>Enes</th>\n",
       "      <td>45</td>\n",
       "      <td>58</td>\n",
       "      <td>182</td>\n",
       "    </tr>\n",
       "    <tr>\n",
       "      <th>Veysel</th>\n",
       "      <td>65</td>\n",
       "      <td>91</td>\n",
       "      <td>190</td>\n",
       "    </tr>\n",
       "    <tr>\n",
       "      <th>Leyla</th>\n",
       "      <td>25</td>\n",
       "      <td>75</td>\n",
       "      <td>186</td>\n",
       "    </tr>\n",
       "    <tr>\n",
       "      <th>Tuğçe</th>\n",
       "      <td>34</td>\n",
       "      <td>99</td>\n",
       "      <td>161</td>\n",
       "    </tr>\n",
       "    <tr>\n",
       "      <th>Tuğba</th>\n",
       "      <td>25</td>\n",
       "      <td>108</td>\n",
       "      <td>162</td>\n",
       "    </tr>\n",
       "  </tbody>\n",
       "</table>\n",
       "</div>"
      ],
      "text/plain": [
       "        Yaş  Kilo  Boy\n",
       "Furkan   64    62  174\n",
       "Ahmet    74    74  155\n",
       "Enes     45    58  182\n",
       "Veysel   65    91  190\n",
       "Leyla    25    75  186\n",
       "Tuğçe    34    99  161\n",
       "Tuğba    25   108  162"
      ]
     },
     "execution_count": 57,
     "metadata": {},
     "output_type": "execute_result"
    }
   ],
   "source": [
    "my_list_index = list(my_df_1.index)\n",
    "my_new_list_index = [\"Furkan\",\"Ahmet\",\"Enes\",\"Veysel\",\"Leyla\",\"Tuğçe\",\"Tuğba\"]\n",
    "my_df_1.index = my_new_list_index\n",
    "my_df_1"
   ]
  },
  {
   "cell_type": "code",
   "execution_count": 59,
   "id": "ed3a79b0-b1ce-4d0a-b49f-0fa220c0f4d2",
   "metadata": {},
   "outputs": [
    {
     "data": {
      "text/html": [
       "<div>\n",
       "<style scoped>\n",
       "    .dataframe tbody tr th:only-of-type {\n",
       "        vertical-align: middle;\n",
       "    }\n",
       "\n",
       "    .dataframe tbody tr th {\n",
       "        vertical-align: top;\n",
       "    }\n",
       "\n",
       "    .dataframe thead th {\n",
       "        text-align: right;\n",
       "    }\n",
       "</style>\n",
       "<table border=\"1\" class=\"dataframe\">\n",
       "  <thead>\n",
       "    <tr style=\"text-align: right;\">\n",
       "      <th></th>\n",
       "      <th>Yaş</th>\n",
       "      <th>Kilo</th>\n",
       "      <th>Boy</th>\n",
       "    </tr>\n",
       "  </thead>\n",
       "  <tbody>\n",
       "    <tr>\n",
       "      <th>Furkan</th>\n",
       "      <td>64</td>\n",
       "      <td>62</td>\n",
       "      <td>174</td>\n",
       "    </tr>\n",
       "    <tr>\n",
       "      <th>Ahmet</th>\n",
       "      <td>74</td>\n",
       "      <td>74</td>\n",
       "      <td>155</td>\n",
       "    </tr>\n",
       "    <tr>\n",
       "      <th>Enes</th>\n",
       "      <td>45</td>\n",
       "      <td>58</td>\n",
       "      <td>182</td>\n",
       "    </tr>\n",
       "    <tr>\n",
       "      <th>Veysel</th>\n",
       "      <td>65</td>\n",
       "      <td>91</td>\n",
       "      <td>190</td>\n",
       "    </tr>\n",
       "    <tr>\n",
       "      <th>Leyla</th>\n",
       "      <td>25</td>\n",
       "      <td>75</td>\n",
       "      <td>186</td>\n",
       "    </tr>\n",
       "    <tr>\n",
       "      <th>Tuğçe</th>\n",
       "      <td>34</td>\n",
       "      <td>99</td>\n",
       "      <td>161</td>\n",
       "    </tr>\n",
       "    <tr>\n",
       "      <th>Nur</th>\n",
       "      <td>25</td>\n",
       "      <td>108</td>\n",
       "      <td>162</td>\n",
       "    </tr>\n",
       "  </tbody>\n",
       "</table>\n",
       "</div>"
      ],
      "text/plain": [
       "        Yaş  Kilo  Boy\n",
       "Furkan   64    62  174\n",
       "Ahmet    74    74  155\n",
       "Enes     45    58  182\n",
       "Veysel   65    91  190\n",
       "Leyla    25    75  186\n",
       "Tuğçe    34    99  161\n",
       "Nur      25   108  162"
      ]
     },
     "execution_count": 59,
     "metadata": {},
     "output_type": "execute_result"
    }
   ],
   "source": [
    "# Tuğba isimli indeksin yeni adını Nur yapın\n",
    "\n",
    "# İster tekli ister çoklu index değişikliği için 3 aşamalı bir işlem yapılır\n",
    "# 1) Önce mevcut indexler bir liste olarak alınır\n",
    "my_list_index_2 = list(my_df_1.index)\n",
    "\n",
    "# 2) İndeksleri ele aldıktan sonra istenilen değişiklik yapılır\n",
    "# Bu örnekte, Tuğba isimli kullanıcının Nur olarak değiştirilmesi isteniyordu\n",
    "my_list_index_2[-1] = \"Nur\"\n",
    "\n",
    "# 3) Değişiklik yaptıktan sonra yeni index listesini, mevcut index olarak\n",
    "# belirleriz\n",
    "\n",
    "my_df_1.index = my_list_index_2\n",
    "my_df_1"
   ]
  },
  {
   "cell_type": "code",
   "execution_count": 63,
   "id": "ec41335e-cf3f-44d0-af8b-d7bdf190cc35",
   "metadata": {},
   "outputs": [
    {
     "data": {
      "text/html": [
       "<div>\n",
       "<style scoped>\n",
       "    .dataframe tbody tr th:only-of-type {\n",
       "        vertical-align: middle;\n",
       "    }\n",
       "\n",
       "    .dataframe tbody tr th {\n",
       "        vertical-align: top;\n",
       "    }\n",
       "\n",
       "    .dataframe thead th {\n",
       "        text-align: right;\n",
       "    }\n",
       "</style>\n",
       "<table border=\"1\" class=\"dataframe\">\n",
       "  <thead>\n",
       "    <tr style=\"text-align: right;\">\n",
       "      <th></th>\n",
       "      <th>Yaş</th>\n",
       "      <th>Kilo</th>\n",
       "      <th>Boy</th>\n",
       "      <th>Cinsiyet</th>\n",
       "    </tr>\n",
       "  </thead>\n",
       "  <tbody>\n",
       "    <tr>\n",
       "      <th>Furkan</th>\n",
       "      <td>64</td>\n",
       "      <td>62</td>\n",
       "      <td>174</td>\n",
       "      <td>Erkek</td>\n",
       "    </tr>\n",
       "    <tr>\n",
       "      <th>Ahmet</th>\n",
       "      <td>74</td>\n",
       "      <td>74</td>\n",
       "      <td>155</td>\n",
       "      <td>Erkek</td>\n",
       "    </tr>\n",
       "    <tr>\n",
       "      <th>Enes</th>\n",
       "      <td>45</td>\n",
       "      <td>58</td>\n",
       "      <td>182</td>\n",
       "      <td>Erkek</td>\n",
       "    </tr>\n",
       "    <tr>\n",
       "      <th>Veysel</th>\n",
       "      <td>65</td>\n",
       "      <td>91</td>\n",
       "      <td>190</td>\n",
       "      <td>Erkek</td>\n",
       "    </tr>\n",
       "    <tr>\n",
       "      <th>Leyla</th>\n",
       "      <td>25</td>\n",
       "      <td>75</td>\n",
       "      <td>186</td>\n",
       "      <td>Kadın</td>\n",
       "    </tr>\n",
       "    <tr>\n",
       "      <th>Tuğçe</th>\n",
       "      <td>34</td>\n",
       "      <td>99</td>\n",
       "      <td>161</td>\n",
       "      <td>Kadın</td>\n",
       "    </tr>\n",
       "    <tr>\n",
       "      <th>Nur</th>\n",
       "      <td>25</td>\n",
       "      <td>108</td>\n",
       "      <td>162</td>\n",
       "      <td>Kadın</td>\n",
       "    </tr>\n",
       "  </tbody>\n",
       "</table>\n",
       "</div>"
      ],
      "text/plain": [
       "        Yaş  Kilo  Boy Cinsiyet\n",
       "Furkan   64    62  174    Erkek\n",
       "Ahmet    74    74  155    Erkek\n",
       "Enes     45    58  182    Erkek\n",
       "Veysel   65    91  190    Erkek\n",
       "Leyla    25    75  186    Kadın\n",
       "Tuğçe    34    99  161    Kadın\n",
       "Nur      25   108  162    Kadın"
      ]
     },
     "execution_count": 63,
     "metadata": {},
     "output_type": "execute_result"
    }
   ],
   "source": [
    "# Her bir index için onun cinsiyetini belirleyen değeri girin\n",
    "# Bu değerleri yeni bir sütun olarak ekleyin\n",
    "\n",
    "my_df_1[\"Cinsiyet\"] = [\"Erkek\", \"Erkek\", \"Erkek\", \"Erkek\", \"Kadın\",\n",
    "                      \"Kadın\",\"Kadın\",]\n",
    "my_df_1"
   ]
  },
  {
   "cell_type": "code",
   "execution_count": 67,
   "id": "4860e8ec-1adc-46d1-8ae6-a84f77a30615",
   "metadata": {},
   "outputs": [
    {
     "data": {
      "text/plain": [
       "Cinsiyet\n",
       "Erkek    4\n",
       "Kadın    3\n",
       "Name: count, dtype: int64"
      ]
     },
     "execution_count": 67,
     "metadata": {},
     "output_type": "execute_result"
    }
   ],
   "source": [
    "# Erkek-Kadın gibi kategorik verilerin frekans dağılımı\n",
    "# matematiksel olarak bilinebilir\n",
    "# Yani, bu DataFrame içerisinde kaç tane erkek kullanıcı kaç tane kadın\n",
    "# kullanıcı olduğunu bilebiliriz\n",
    "my_df_1[\"Cinsiyet\"].value_counts()"
   ]
  },
  {
   "cell_type": "code",
   "execution_count": 73,
   "id": "51d76d74-77ad-4d0d-8b11-67a4db6d75bf",
   "metadata": {},
   "outputs": [
    {
     "data": {
      "text/plain": [
       "np.float64(172.85714285714286)"
      ]
     },
     "execution_count": 73,
     "metadata": {},
     "output_type": "execute_result"
    }
   ],
   "source": [
    "# Boy sütununun ortalama değeri\n",
    "my_df_1[\"Boy\"].mean()"
   ]
  },
  {
   "cell_type": "code",
   "execution_count": 75,
   "id": "bd0f76cb-0f63-4743-9a04-2a66626ca346",
   "metadata": {},
   "outputs": [
    {
     "data": {
      "text/plain": [
       "np.float64(172.85714285714286)"
      ]
     },
     "execution_count": 75,
     "metadata": {},
     "output_type": "execute_result"
    }
   ],
   "source": [
    "# Yukarıdaki kodla aynı işlevi görür ve aynı çıktıyı verir.\n",
    "np.mean(my_df_1[\"Boy\"].values)"
   ]
  },
  {
   "cell_type": "code",
   "execution_count": 77,
   "id": "af9d81ff-bb34-4593-abfe-dcd445125ff1",
   "metadata": {},
   "outputs": [
    {
     "data": {
      "text/html": [
       "<div>\n",
       "<style scoped>\n",
       "    .dataframe tbody tr th:only-of-type {\n",
       "        vertical-align: middle;\n",
       "    }\n",
       "\n",
       "    .dataframe tbody tr th {\n",
       "        vertical-align: top;\n",
       "    }\n",
       "\n",
       "    .dataframe thead th {\n",
       "        text-align: right;\n",
       "    }\n",
       "</style>\n",
       "<table border=\"1\" class=\"dataframe\">\n",
       "  <thead>\n",
       "    <tr style=\"text-align: right;\">\n",
       "      <th></th>\n",
       "      <th>Yaş</th>\n",
       "      <th>Kilo</th>\n",
       "      <th>Boy</th>\n",
       "      <th>Cinsiyet</th>\n",
       "    </tr>\n",
       "  </thead>\n",
       "  <tbody>\n",
       "    <tr>\n",
       "      <th>Enes</th>\n",
       "      <td>45</td>\n",
       "      <td>58</td>\n",
       "      <td>182</td>\n",
       "      <td>Erkek</td>\n",
       "    </tr>\n",
       "    <tr>\n",
       "      <th>Veysel</th>\n",
       "      <td>65</td>\n",
       "      <td>91</td>\n",
       "      <td>190</td>\n",
       "      <td>Erkek</td>\n",
       "    </tr>\n",
       "    <tr>\n",
       "      <th>Leyla</th>\n",
       "      <td>25</td>\n",
       "      <td>75</td>\n",
       "      <td>186</td>\n",
       "      <td>Kadın</td>\n",
       "    </tr>\n",
       "  </tbody>\n",
       "</table>\n",
       "</div>"
      ],
      "text/plain": [
       "        Yaş  Kilo  Boy Cinsiyet\n",
       "Enes     45    58  182    Erkek\n",
       "Veysel   65    91  190    Erkek\n",
       "Leyla    25    75  186    Kadın"
      ]
     },
     "execution_count": 77,
     "metadata": {},
     "output_type": "execute_result"
    }
   ],
   "source": [
    "# Basit filtreleme\n",
    "# Boyu, 180 cm'den uzun olan kullanıcılar\n",
    "\n",
    "my_df_1[my_df_1[\"Boy\"]>180]"
   ]
  },
  {
   "cell_type": "code",
   "execution_count": 79,
   "id": "4012fc86-2d6a-4989-8b30-f2536389371d",
   "metadata": {},
   "outputs": [
    {
     "data": {
      "text/plain": [
       "Furkan    False\n",
       "Ahmet     False\n",
       "Enes       True\n",
       "Veysel     True\n",
       "Leyla      True\n",
       "Tuğçe     False\n",
       "Nur       False\n",
       "Name: Boy, dtype: bool"
      ]
     },
     "execution_count": 79,
     "metadata": {},
     "output_type": "execute_result"
    }
   ],
   "source": [
    "my_df_1[\"Boy\"]>180"
   ]
  },
  {
   "cell_type": "code",
   "execution_count": null,
   "id": "630d7b17-e523-45e5-a38e-f7c1ee7d76fb",
   "metadata": {},
   "outputs": [],
   "source": []
  }
 ],
 "metadata": {
  "kernelspec": {
   "display_name": "ybs3a",
   "language": "python",
   "name": "ybs3a"
  },
  "language_info": {
   "codemirror_mode": {
    "name": "ipython",
    "version": 3
   },
   "file_extension": ".py",
   "mimetype": "text/x-python",
   "name": "python",
   "nbconvert_exporter": "python",
   "pygments_lexer": "ipython3",
   "version": "3.10.10"
  }
 },
 "nbformat": 4,
 "nbformat_minor": 5
}
