{
 "cells": [
  {
   "cell_type": "code",
   "execution_count": 1,
   "id": "fa77db27-576a-4e87-955d-fe0533b0f660",
   "metadata": {},
   "outputs": [],
   "source": [
    "# 11. HAFTA => VERİ BİLİMİNE GİRİŞ"
   ]
  },
  {
   "cell_type": "code",
   "execution_count": 5,
   "id": "0d611553-82d2-429f-b891-88d3303a76cc",
   "metadata": {},
   "outputs": [],
   "source": [
    "import numpy as np"
   ]
  },
  {
   "cell_type": "code",
   "execution_count": 7,
   "id": "8b8b2bb5-dfb8-439f-82ec-53d8e9c36a7c",
   "metadata": {},
   "outputs": [
    {
     "name": "stdout",
     "output_type": "stream",
     "text": [
      "<class 'list'>\n",
      "<class 'numpy.ndarray'>\n"
     ]
    }
   ],
   "source": [
    "# İlk olarak, bir listeyi numpy array'e dönüştürüp aradaki farkı görelim\n",
    "my_list_1 = [1,2,56,78]\n",
    "print(type(my_list_1))\n",
    "\n",
    "# Bir listeyi array'e dönüştürmenin en kısa ve bilindik yolu\n",
    "my_array_1 = np.array(my_list_1)\n",
    "print(type(my_array_1))"
   ]
  },
  {
   "cell_type": "code",
   "execution_count": 11,
   "id": "505af12c-16b2-4b0f-80ac-3a4f2bc69185",
   "metadata": {},
   "outputs": [
    {
     "name": "stdout",
     "output_type": "stream",
     "text": [
      "[ 0  1  2  3  4  5  6  7  8  9 10]\n"
     ]
    }
   ],
   "source": [
    "my_array_2 = np.arange(11)\n",
    "print(my_array_2)"
   ]
  },
  {
   "cell_type": "code",
   "execution_count": 13,
   "id": "f4318f92-9836-40c8-852f-1f20dd099539",
   "metadata": {},
   "outputs": [
    {
     "name": "stdout",
     "output_type": "stream",
     "text": [
      "[ 5 10 15 20 25 30 35 40 45 50 55]\n"
     ]
    }
   ],
   "source": [
    "# 5'ten başlayarak 56'ya kadar (56 dahil değil)\n",
    "# 5'er 5'er artan sayılardan oluşan bir array tanımlayın\n",
    "\n",
    "my_array_3 = np.arange(5,56,5)\n",
    "print(my_array_3)"
   ]
  },
  {
   "cell_type": "code",
   "execution_count": 27,
   "id": "4f970dfd-58f9-4e6e-ab27-ebe59c232082",
   "metadata": {},
   "outputs": [
    {
     "name": "stdout",
     "output_type": "stream",
     "text": [
      "[   5   46    0 -101   12    1   45]\n",
      "int32\n"
     ]
    }
   ],
   "source": [
    "my_array_4 = np.array([5,46,0,-101,\"12\",True,45.965],dtype=np.int32)\n",
    "print(my_array_4)\n",
    "print(my_array_4.dtype)"
   ]
  },
  {
   "cell_type": "code",
   "execution_count": null,
   "id": "8c050f40-5bcb-4959-9ad2-13d1927dfacf",
   "metadata": {},
   "outputs": [],
   "source": [
    "import math\n",
    "import random"
   ]
  },
  {
   "cell_type": "code",
   "execution_count": 29,
   "id": "26faa617-6671-48af-ad62-18594c774ff9",
   "metadata": {},
   "outputs": [
    {
     "name": "stdout",
     "output_type": "stream",
     "text": [
      "15\n"
     ]
    }
   ],
   "source": [
    "# Rastgele int sayı üretimi\n",
    "# 1 adet sayı \n",
    "print(np.random.randint(5,55))"
   ]
  },
  {
   "cell_type": "code",
   "execution_count": 31,
   "id": "b778a2ac-1dd7-4bfc-96a7-1a3091ac6359",
   "metadata": {},
   "outputs": [
    {
     "name": "stdout",
     "output_type": "stream",
     "text": [
      "[[23 72 25]\n",
      " [81  5 17]\n",
      " [91 98 71]]\n"
     ]
    }
   ],
   "source": [
    "# Eğer tek bir değer değil de bir matris üretmek istiyosanız\n",
    "\n",
    "print(np.random.randint(1,101,(3,3)))"
   ]
  },
  {
   "cell_type": "code",
   "execution_count": 35,
   "id": "badc287b-9575-4b4b-a510-9a09abf87539",
   "metadata": {},
   "outputs": [
    {
     "name": "stdout",
     "output_type": "stream",
     "text": [
      "[[92 44]\n",
      " [21 70]\n",
      " [ 1 78]\n",
      " [59 23]]\n",
      "--------------------------------------------------\n",
      "Matrisin boyutu = (4, 2)\n",
      "Matrisin satır sayısı = 4\n",
      "Matrisin sütun sayısı = 2\n",
      "Matrisin eleman sayısı = 8\n",
      "Matrisin boyutu = 2\n"
     ]
    }
   ],
   "source": [
    "matris_1 = np.random.randint(1,101,(4,2))\n",
    "print(matris_1)\n",
    "print(\"-\"*50)\n",
    "# bir matristeki temel özellikler\n",
    "print(f\"Matrisin boyutu = {matris_1.shape}\")\n",
    "print(f\"Matrisin satır sayısı = {matris_1.shape[0]}\")\n",
    "print(f\"Matrisin sütun sayısı = {matris_1.shape[1]}\")\n",
    "print(f\"Matrisin eleman sayısı = {matris_1.size}\")\n",
    "print(f\"Matrisin boyutu = {matris_1.ndim}\")"
   ]
  },
  {
   "cell_type": "code",
   "execution_count": 39,
   "id": "7dab1d17-b1b0-431b-928a-4407a648b090",
   "metadata": {},
   "outputs": [],
   "source": [
    "# 1 ile 10 arasında 2x2 boyutunda 2 matris tanımlayın\n",
    "# Yapılacaklar\n",
    "# 1) iki matris ile 4 temel matematiksel işlemi yapın\n",
    "# Yani iki matrisi birbiriyle toplayın, çarpın, çıkarın, bölün\n",
    "# 2) iki matrisin de 7 ile bölümünden kalanlarını verin\n",
    "# Yani 2 matriste de yer alan sayıların 7 ile bölümünden kalanını yazdırın\n",
    "# 3) İki matristeki tüm sayıların karesini hesaplayıp yazdırın\n",
    "# NOT: tüm bu işlemleri yaparken her iki matrisi de bir integer değişken gibi\n",
    "# düşünün\n"
   ]
  },
  {
   "cell_type": "code",
   "execution_count": 41,
   "id": "223ca59a-c5e3-4f36-bccd-e7b9aa544cdb",
   "metadata": {},
   "outputs": [
    {
     "name": "stdout",
     "output_type": "stream",
     "text": [
      "Matris_1 = [[4 9]\n",
      " [2 5]]\n",
      "Matris_2 = [[5 8]\n",
      " [7 3]]\n"
     ]
    }
   ],
   "source": [
    "# 1 ile 10 arasında 2x2 boyutunda 2 matris tanımlayın\n",
    "new_matris_1 = np.random.randint(1,11,(2,2))\n",
    "new_matris_2 = np.random.randint(1,11,(2,2))\n",
    "\n",
    "print(f\"Matris_1 = {new_matris_1}\")\n",
    "print(f\"Matris_2 = {new_matris_2}\")"
   ]
  },
  {
   "cell_type": "code",
   "execution_count": 45,
   "id": "50b0532c-0adc-483f-89df-5d928109db49",
   "metadata": {},
   "outputs": [
    {
     "name": "stdout",
     "output_type": "stream",
     "text": [
      "Toplam = [[ 9 17]\n",
      " [ 9  8]]\n",
      "--------------------------------------------------\n",
      "Çıkarma = [[-1  1]\n",
      " [-5  2]]\n",
      "--------------------------------------------------\n",
      "Bölme = [[0.8        1.125     ]\n",
      " [0.28571429 1.66666667]]\n",
      "--------------------------------------------------\n",
      "Çarpma = [[20 72]\n",
      " [14 15]]\n",
      "--------------------------------------------------\n"
     ]
    }
   ],
   "source": [
    "# Yapılacaklar\n",
    "# 1) iki matris ile 4 temel matematiksel işlemi yapın\n",
    "# Yani iki matrisi birbiriyle toplayın, çarpın, çıkarın, bölün\n",
    "\n",
    "print(f\"Toplam = {new_matris_1+new_matris_2}\")\n",
    "print(\"-\"*50)\n",
    "print(f\"Çıkarma = {new_matris_1-new_matris_2}\")\n",
    "print(\"-\"*50)\n",
    "print(f\"Bölme = {new_matris_1/new_matris_2}\")\n",
    "print(\"-\"*50)\n",
    "print(f\"Çarpma = {new_matris_1*new_matris_2}\")\n",
    "print(\"-\"*50)"
   ]
  },
  {
   "cell_type": "code",
   "execution_count": 49,
   "id": "927452ac-6d8a-4c91-ae6f-4c4614513245",
   "metadata": {},
   "outputs": [
    {
     "name": "stdout",
     "output_type": "stream",
     "text": [
      "[[83 59]\n",
      " [45 31]]\n",
      "--------------------------------------------------\n",
      "[[34 81]\n",
      " [18 43]]\n"
     ]
    }
   ],
   "source": [
    "# NOT: Lineer Cebirde iki matrisin çarpımının özel bir şartı vardır\n",
    "# Buna göre, ilk matrisin sütun sayısı ile ikinci matrisin\n",
    "# satır sayısının birbirine eşit olması lazım.\n",
    "\n",
    "# Python'da şartları taşıyan iki matrisin çarpım işlemi aşağıdaki gibi\n",
    "# yapılır.\n",
    "\n",
    "# 1. Yol: (numpy ile)\n",
    "print(np.dot(new_matris_1,new_matris_2))\n",
    "\n",
    "print(\"-\"*50)\n",
    "\n",
    "#@ karakteri ile (@ karakteri * işleminin yerini alır)\n",
    "print(new_matris_1@new_matris_1)"
   ]
  },
  {
   "cell_type": "code",
   "execution_count": 51,
   "id": "dcd4e4d5-5e0f-4a9c-9f3c-cd60978412ae",
   "metadata": {},
   "outputs": [
    {
     "name": "stdout",
     "output_type": "stream",
     "text": [
      "Sadece sıfırlardan oluşan matris = [[0. 0. 0.]\n",
      " [0. 0. 0.]\n",
      " [0. 0. 0.]\n",
      " [0. 0. 0.]\n",
      " [0. 0. 0.]]\n",
      "--------------------------------------------------\n",
      "Sadece birlerden oluşan matris = [[1. 1. 1.]\n",
      " [1. 1. 1.]\n",
      " [1. 1. 1.]\n",
      " [1. 1. 1.]\n",
      " [1. 1. 1.]]\n",
      "--------------------------------------------------\n",
      "Diyagonal matris = [[1. 0. 0. 0. 0. 0.]\n",
      " [0. 1. 0. 0. 0. 0.]\n",
      " [0. 0. 1. 0. 0. 0.]\n",
      " [0. 0. 0. 1. 0. 0.]\n",
      " [0. 0. 0. 0. 1. 0.]\n",
      " [0. 0. 0. 0. 0. 1.]]\n",
      "--------------------------------------------------\n",
      "Tamamen aynı değerlerden oluşan matris = [[8 8 8]\n",
      " [8 8 8]\n",
      " [8 8 8]]\n",
      "--------------------------------------------------\n"
     ]
    }
   ],
   "source": [
    "# Özel matris üretme\n",
    "\n",
    "# Sadece sıfırlardan oluşan ve istenilen boyutlarda (5x3) matris üretme\n",
    "my_array_5_zeros = np.zeros((5,3))\n",
    "\n",
    "# Sadece birlerden oluşan ve istenilen boyutlarda (4x3) matris üretme\n",
    "my_array_6_ones = np.ones((5,3))\n",
    "\n",
    "# Diyagonal matris\n",
    "my_array_7_diagonal = np.eye(6)\n",
    "\n",
    "# İstenilen boyutlarda tamamen aynı değerden oluşan matris\n",
    "# Örneğin 3x3 boyutunda tamamen 8 sayısından oluşan matris\n",
    "my_array_8_full = np.full((3,3),8)\n",
    "\n",
    "print(f\"Sadece sıfırlardan oluşan matris = {my_array_5_zeros}\")\n",
    "print(\"-\"*50)\n",
    "print(f\"Sadece birlerden oluşan matris = {my_array_6_ones}\")\n",
    "print(\"-\"*50)\n",
    "print(f\"Diyagonal matris = {my_array_7_diagonal}\")\n",
    "print(\"-\"*50)\n",
    "print(f\"Tamamen aynı değerlerden oluşan matris = {my_array_8_full}\")\n",
    "print(\"-\"*50)"
   ]
  },
  {
   "cell_type": "code",
   "execution_count": 53,
   "id": "2ab9aee3-f208-4a38-a1d9-ceca0afe3f73",
   "metadata": {},
   "outputs": [
    {
     "name": "stdout",
     "output_type": "stream",
     "text": [
      "[[69 73 89]\n",
      " [18  1 83]\n",
      " [83 69 38]\n",
      " [57 38 59]]\n"
     ]
    }
   ],
   "source": [
    "my_array_9 = np.random.randint(1,101,(4,3))\n",
    "\n",
    "print(my_array_9)"
   ]
  },
  {
   "cell_type": "code",
   "execution_count": 57,
   "id": "098d6aab-b675-43e1-845d-00b547cbb637",
   "metadata": {},
   "outputs": [
    {
     "name": "stdout",
     "output_type": "stream",
     "text": [
      "en büyük eleman = 89\n",
      "en büyük eleman = 1\n",
      "en büyük elemanın indeksi = 2\n",
      "en küçük elemanın indeksi = 4\n"
     ]
    }
   ],
   "source": [
    "# Bir matrisin elemanları ve indeksleriyle yapılan işlemler\n",
    "\n",
    "# 1) En büyük elemanı bulma\n",
    "print(f\"en büyük eleman = {np.max(my_array_9)}\")\n",
    "\n",
    "# 2) En küçük elemanı bulma\n",
    "print(f\"en büyük eleman = {np.min(my_array_9)}\")\n",
    "\n",
    "# 3) En büyük elemanın indeks değerini getirme\n",
    "print(f\"en büyük elemanın indeksi = {np.argmax(my_array_9)}\")\n",
    "\n",
    "# 4) En küçük elemanın indeks değerini getirme\n",
    "print(f\"en küçük elemanın indeksi = {np.argmin(my_array_9)}\")"
   ]
  },
  {
   "cell_type": "code",
   "execution_count": 59,
   "id": "41309613-9b7d-41bb-9c68-adb822352793",
   "metadata": {},
   "outputs": [
    {
     "name": "stdout",
     "output_type": "stream",
     "text": [
      "Ortalama = 56.416666666666664\n",
      "Standart Sapma = 26.297840004245383\n",
      "Median = 64.0\n"
     ]
    }
   ],
   "source": [
    "# İstatistiki Bilgiler\n",
    "\n",
    "# 1) Ortalama değer\n",
    "print(f\"Ortalama = {np.mean(my_array_9)}\")\n",
    "\n",
    "# 2) Standart Sapma\n",
    "print(f\"Standart Sapma = {np.std(my_array_9)}\")\n",
    "\n",
    "# 3) Median (ortanca değer)\n",
    "print(f\"Median = {np.median(my_array_9)}\")"
   ]
  },
  {
   "cell_type": "code",
   "execution_count": 61,
   "id": "3bbeba82-4971-44bc-9ad2-ad24924aed83",
   "metadata": {},
   "outputs": [],
   "source": [
    "# np.where() fonksiyonunun içerisine yazacağımız koşul ile\n",
    "# bir matris içerisinde istediğimiz filtrelemeyi yapıp, sadece bu \n",
    "# filtreleme işlemine indeksleri ya da değerleri getirebiliriz."
   ]
  },
  {
   "cell_type": "code",
   "execution_count": 67,
   "id": "24acc292-f5ea-4230-99d1-c04174115b17",
   "metadata": {},
   "outputs": [
    {
     "name": "stdout",
     "output_type": "stream",
     "text": [
      "Matris = [ 55  -3   0  18   2   1  24 -36]\n",
      "--------------------------------------------------\n",
      "İndeksler = (array([0, 3, 6], dtype=int64),)\n"
     ]
    }
   ],
   "source": [
    "my_array_10 = np.array([55,-3,0,18,2,1,24,-36])\n",
    "my_index_10 = np.where(my_array_10>5)\n",
    "\n",
    "print(f\"Matris = {my_array_10}\")\n",
    "print(\"-\"*50)\n",
    "print(f\"İndeksler = {my_index_10}\")"
   ]
  },
  {
   "cell_type": "code",
   "execution_count": 71,
   "id": "1d91e8ab-e9e2-4a43-8e86-e30748080360",
   "metadata": {},
   "outputs": [
    {
     "name": "stdout",
     "output_type": "stream",
     "text": [
      "[55 18 24]\n"
     ]
    }
   ],
   "source": [
    "# Bu değerleri getiren kodu yazın\n",
    "print(my_array_10[my_index_10])"
   ]
  },
  {
   "cell_type": "code",
   "execution_count": 79,
   "id": "4aa9ad0c-a4d5-43a3-ad08-c8ad9a83ec26",
   "metadata": {},
   "outputs": [
    {
     "name": "stdout",
     "output_type": "stream",
     "text": [
      "[[11  2  4]\n",
      " [ 6 13  1]\n",
      " [14  7  3]]\n",
      "--------------------------------------------------\n",
      "5'ten büyük sayıların İndeksleri = (array([0, 1, 1, 2, 2], dtype=int64), array([0, 0, 1, 0, 1], dtype=int64))\n",
      "--------------------------------------------------\n",
      "Değerler = [11  6 13 14  7]\n"
     ]
    }
   ],
   "source": [
    "my_array_11 = np.random.randint(1,16,(3,3))\n",
    "print(my_array_11)\n",
    "print(\"-\"*50)\n",
    "my_index_11 = np.where(my_array_11>5)\n",
    "print(f\"5'ten büyük sayıların İndeksleri = {my_index_11}\")\n",
    "print(\"-\"*50)\n",
    "print(f\"Değerler = {my_array_11[my_index_11]}\")"
   ]
  },
  {
   "cell_type": "code",
   "execution_count": 86,
   "id": "65fef748-049d-42c1-a32f-5b4f97a766a0",
   "metadata": {},
   "outputs": [
    {
     "name": "stdout",
     "output_type": "stream",
     "text": [
      "Matris = [[66 78 62]\n",
      " [20 55 93]\n",
      " [ 3  2  8]]\n",
      "--------------------------------------------------\n",
      "İndeksler = (array([0, 0, 0, 1], dtype=int64), array([0, 1, 2, 0], dtype=int64))\n",
      "--------------------------------------------------\n",
      "Değerler = [66 78 62 20]\n"
     ]
    }
   ],
   "source": [
    "# 3x3 boyutunda 1 ile 100 arasında rastgele değerlerden oluşan bir matris\n",
    "# tanımlayın. Bu matristeki 10'dan büyük ve 2'nin katı olan değerlerin\n",
    "# hem indekslerini yazdırın hem de o değerleri yazdırın\n",
    "\n",
    "my_array_12 = np.random.randint(1,101,(3,3))\n",
    "\n",
    "kosul_12 = (my_array_12>10) & (my_array_12%2==0)\n",
    "my_index_12 = np.where(kosul_12)\n",
    "print(f\"Matris = {my_array_12}\")\n",
    "print(f\"-\"*50)\n",
    "print(f\"İndeksler = {my_index_12}\")\n",
    "print(f\"-\"*50)\n",
    "print(f\"Değerler = {my_array_12[my_index_12]}\")"
   ]
  },
  {
   "cell_type": "code",
   "execution_count": 88,
   "id": "9c6ef15f-0c0f-4f20-aaf6-3382eb06770e",
   "metadata": {},
   "outputs": [
    {
     "name": "stdout",
     "output_type": "stream",
     "text": [
      "Tek bir satır olarak birleştirme = [1 2 3 4]\n",
      "--------------------------------------------------\n",
      "Alt alta birleştirme (n adet satır olarak birleştirme) = [[1 2]\n",
      " [3 4]]\n"
     ]
    }
   ],
   "source": [
    "# Array'leri birleştirme\n",
    "\n",
    "my_array_13 = np.array([1,2])\n",
    "my_array_14 = np.array([3,4])\n",
    "\n",
    "# Tek bir satır olarak birleştirme\n",
    "print(f\"Tek bir satır olarak birleştirme = {np.concatenate((my_array_13,my_array_14))}\")\n",
    "print(f\"-\"*50)\n",
    "print(f\"Alt alta birleştirme (n adet satır olarak birleştirme) = {np.stack((my_array_13,my_array_14))}\")"
   ]
  },
  {
   "cell_type": "code",
   "execution_count": 90,
   "id": "e78f7ab7-6e3f-48a7-bb06-c481c537f4c0",
   "metadata": {},
   "outputs": [
    {
     "name": "stdout",
     "output_type": "stream",
     "text": [
      "Orijinal Array = [ 5  5  1  0 78 78 30  0  1  3  2  1]\n",
      "--------------------------------------------------\n",
      "Benzersiz değerler = [ 0  1  2  3  5 30 78]\n"
     ]
    }
   ],
   "source": [
    "# Sadece benzersiz değerleri bir array'e ekleyen kod\n",
    "\n",
    "my_array_15 = np.array([5,5,1,0,78,78,30,0,1,3,2,1])\n",
    "print(f\"Orijinal Array = {my_array_15}\")\n",
    "\n",
    "print(\"-\"*50)\n",
    "\n",
    "my_array_16_unique = np.unique(my_array_15)\n",
    "print(f\"Benzersiz değerler = {my_array_16_unique}\")"
   ]
  },
  {
   "cell_type": "code",
   "execution_count": 92,
   "id": "bc9d1d8f-80fc-4eb8-a5c5-a81cdcba50f2",
   "metadata": {},
   "outputs": [
    {
     "name": "stdout",
     "output_type": "stream",
     "text": [
      "Orijinal Array = [  0   5  98  -3  27  36  45 102  18  23  29  30]\n",
      "--------------------------------------------------\n",
      "Manipüle edilmiş Array = [ 2  5 50  2 27 36 45 50 18 23 29 30]\n"
     ]
    }
   ],
   "source": [
    "# Array'deki verileri istenilen değer aralığına çekmek\n",
    "\n",
    "my_array_17 = np.array([0,5,98,-3,27,36,45,102,18,23,29,30])\n",
    "print(f\"Orijinal Array = {my_array_17}\")\n",
    "print(\"-\"*50)\n",
    "\n",
    "my_array_18_clip = np.clip(my_array_17,2,50)\n",
    "print(f\"Manipüle edilmiş Array = {my_array_18_clip}\")"
   ]
  },
  {
   "cell_type": "code",
   "execution_count": 94,
   "id": "59602e5d-c63c-440c-8801-8b9c829c778e",
   "metadata": {},
   "outputs": [
    {
     "name": "stdout",
     "output_type": "stream",
     "text": [
      "[0.   0.25 0.5  0.75 1.  ]\n"
     ]
    }
   ],
   "source": [
    "#np.linspace() verilen aralıkta istenen sayı kadar eşit bölme yapar\n",
    "# 0 ve 1 aralığında 5 adet eşit aralıklarla ayrılmış değer getiren kod\n",
    "\n",
    "my_array_19 = np.linspace(0,1,5)\n",
    "print(my_array_19)"
   ]
  },
  {
   "cell_type": "code",
   "execution_count": 102,
   "id": "18b87015-ff28-45c7-a2e0-f35ca7e4dae5",
   "metadata": {},
   "outputs": [
    {
     "name": "stdout",
     "output_type": "stream",
     "text": [
      "Listenin orijinal hali = [55, -3, 0, -2, 11, 11, -3, 49, -26, -20, 13, 79, -8, 49, 76, 103, 38, -28]\n",
      "--------------------------------------------------\n",
      "Set'e dönüştürülmüş hali = {0, -28, -26, 103, 38, 11, -20, 13, 76, 79, 49, 55, -8, -3, -2}\n",
      "--------------------------------------------------\n",
      "Sıralı liste = [-28, -26, -20, -8, -3, -2, 0, 11, 13, 38, 49, 55, 76, 79, 103]\n",
      "--------------------------------------------------\n",
      "<class 'list'>\n",
      "Final Sorted Array = [-28 -26 -20  -8  -3  -2   0  11  13  38  49  55  76  79 103]\n",
      "<class 'numpy.ndarray'>\n"
     ]
    }
   ],
   "source": [
    "my_list_2 = [55,-3,0,-2,11,11,-3,49,-26,-20,13,79,-8,49,76,103,38,-28]\n",
    "\n",
    "# Aşama-1: Önce size verilen tekrar eden değerlerden kurtulun\n",
    "# Aşama-1 tüyo: bu listeyi set veri yapısına dönüştürün\n",
    "\n",
    "# önce listeyi set veri yapısına dönüştürüp tekrar eden verilerden kurtuluyoruz\n",
    "my_set_1 = set(my_list_2)\n",
    "print(f\"Listenin orijinal hali = {my_list_2}\")\n",
    "print(f\"-\"*50)\n",
    "print(f\"Set'e dönüştürülmüş hali = {my_set_1}\")\n",
    "print(f\"-\"*50)\n",
    "\n",
    "# Aşama-2: Elinizde kalan ve tekrar etmeyen verileri sıralayın\n",
    "my_list_3_sirali = sorted(list(my_set_1))\n",
    "print(f\"Sıralı liste = {my_list_3_sirali}\")\n",
    "print(f\"-\"*50)\n",
    "print(type(my_list_3_sirali))\n",
    "\n",
    "# Aşama-3: Bu verileri bir array tipine dönüştürün ve ekrana yazdırın\n",
    "my_array_final = np.array(my_list_3_sirali)\n",
    "print(f\"Final Sorted Array = {my_array_final}\")\n",
    "print(type(my_array_final))"
   ]
  },
  {
   "cell_type": "code",
   "execution_count": null,
   "id": "15244850-2872-449d-ba42-ddc49d6f063b",
   "metadata": {},
   "outputs": [],
   "source": []
  }
 ],
 "metadata": {
  "kernelspec": {
   "display_name": "my_tf_3",
   "language": "python",
   "name": "my_tf_3"
  },
  "language_info": {
   "codemirror_mode": {
    "name": "ipython",
    "version": 3
   },
   "file_extension": ".py",
   "mimetype": "text/x-python",
   "name": "python",
   "nbconvert_exporter": "python",
   "pygments_lexer": "ipython3",
   "version": "3.9.20"
  }
 },
 "nbformat": 4,
 "nbformat_minor": 5
}
