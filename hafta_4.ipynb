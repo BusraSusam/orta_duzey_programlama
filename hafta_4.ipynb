{
 "cells": [
  {
   "cell_type": "code",
   "execution_count": 2,
   "id": "ce876a96-adc5-4321-8c50-0889df17058b",
   "metadata": {},
   "outputs": [],
   "source": [
    "# Lambda ile fonksiyon yazımı ve kullanımı\n",
    "\n",
    "# Söz dizimi:\n",
    "# lambda argümanlar:ifade\n",
    "\n",
    "# lambda = anahtar kelimedir ve kesinlikle kullanılmalıdır\n",
    "# tıpkı normal fonksiyon yazarken def anahtar kelimesinin kullanılması gibi\n",
    "# argümanlar = fonksiyonun parametreleri olarak düşünülebilir\n",
    "# sadece isimleri yazılır (argümanlar kısmında)\n",
    "# ifade = return yapılan işlem ya da işlem türüdür\n"
   ]
  },
  {
   "cell_type": "code",
   "execution_count": 4,
   "id": "6bdf2821-de4a-4533-8ae5-67028df917b5",
   "metadata": {},
   "outputs": [
    {
     "name": "stdout",
     "output_type": "stream",
     "text": [
      "5 sayısının karesi = 25\n"
     ]
    }
   ],
   "source": [
    "# Normal fonksiyon tanımlayarak bir sayının karesini hesaplama\n",
    "\n",
    "def fonk_kare(x):\n",
    "    return x**2\n",
    "\n",
    "print(f\"5 sayısının karesi = {fonk_kare(5)}\")"
   ]
  },
  {
   "cell_type": "code",
   "execution_count": 6,
   "id": "c9c54cc2-0652-42b0-af0a-3d0a084b4eb9",
   "metadata": {},
   "outputs": [
    {
     "name": "stdout",
     "output_type": "stream",
     "text": [
      "5 sayısının karesi = 25\n"
     ]
    }
   ],
   "source": [
    "# Lambda ile bir sayının karesini hesaplama\n",
    "\n",
    "# Genellikle şöyle kullanılır\n",
    "\n",
    "# fonksiyon_adı = lambda argümanlar:işlem\n",
    "\n",
    "kare_lm = lambda v:v**2\n",
    "\n",
    "print(f\"5 sayısının karesi = {kare_lm(5)}\")"
   ]
  },
  {
   "cell_type": "code",
   "execution_count": 8,
   "id": "1c9edc5f-1ef9-4e4c-82b2-9e4a5f0b4d67",
   "metadata": {},
   "outputs": [
    {
     "name": "stdout",
     "output_type": "stream",
     "text": [
      "8 ve 13 sayılarının toplamı = 21\n"
     ]
    }
   ],
   "source": [
    "# İki veya daha fazla parametre ile lambda'nın kullanımı\n",
    "\n",
    "# Örnek: 2 sayının toplamını lambda ile yazma\n",
    "\n",
    "toplam = lambda x,y:x+y\n",
    "print(f\"8 ve 13 sayılarının toplamı = {toplam(8,13)}\")"
   ]
  },
  {
   "cell_type": "code",
   "execution_count": 10,
   "id": "9acd1b3e-b5ae-42d8-97cb-50858b0ea71a",
   "metadata": {},
   "outputs": [
    {
     "name": "stdout",
     "output_type": "stream",
     "text": [
      "5,78,96 sayılarının ortalaması = 59.666666666666664\n"
     ]
    }
   ],
   "source": [
    "# Girilen 3 sayının ortalamasını hesaplayan lambda kodu\n",
    "\n",
    "ortalama = lambda x,y,z:(x+y+z)/3\n",
    "print(f\"5,78,96 sayılarının ortalaması = {ortalama(5,78,96)}\")"
   ]
  },
  {
   "cell_type": "code",
   "execution_count": 28,
   "id": "7861fc8c-1bb5-41bb-a559-eaf1218833da",
   "metadata": {},
   "outputs": [
    {
     "name": "stdout",
     "output_type": "stream",
     "text": [
      "Toplam Karakter sayısı = 12\n"
     ]
    }
   ],
   "source": [
    "# Girilen bir metindeki toplam karakter sayısını döndüren\n",
    "# kod-lambda ile\n",
    "\n",
    "karakter_sayisi = lambda x:len(x)\n",
    "\n",
    "print(f\"Toplam Karakter sayısı = {kelime_sayisi('Furkan ATLAN')}\")"
   ]
  },
  {
   "cell_type": "code",
   "execution_count": 30,
   "id": "2268fbf3-15c0-4e53-9962-6ae5568cf15d",
   "metadata": {},
   "outputs": [
    {
     "name": "stdout",
     "output_type": "stream",
     "text": [
      "Kelime Sayısı = 2\n"
     ]
    }
   ],
   "source": [
    "# Girilen bir metindeki toplam kelime sayısını döndüren\n",
    "# kod-lambda ile\n",
    "\n",
    "kelime_sayisi = lambda x:len(x.split())\n",
    "print(f\"Kelime Sayısı = {kelime_sayisi('Furkan ATLAN')}\")"
   ]
  },
  {
   "cell_type": "code",
   "execution_count": 35,
   "id": "5d2522be-cd9d-484c-80ad-06a9ab00c6f3",
   "metadata": {},
   "outputs": [
    {
     "name": "stdout",
     "output_type": "stream",
     "text": [
      "Furkan kelimesinin tersten yazılışı = nakruF\n"
     ]
    }
   ],
   "source": [
    "# Girilen bir str ifadeyi tersten yazdıran lambda kodu\n",
    "\n",
    "tersten = lambda x:x[::-1]\n",
    "print(f\"Furkan kelimesinin tersten yazılışı = {tersten('Furkan')}\")"
   ]
  },
  {
   "cell_type": "code",
   "execution_count": 44,
   "id": "b57417e4-327b-40a3-b830-181f276e07bf",
   "metadata": {},
   "outputs": [
    {
     "name": "stdout",
     "output_type": "stream",
     "text": [
      "ftrkbn btlbn yrndtjm bjljşjm sjstdmldrj btcbk zdljhb tnltnby\n"
     ]
    }
   ],
   "source": [
    "# Girilen bir str ifade içerisindeki sesli harfleri\n",
    "# kendisinden önce veya sonraki sessiz harf ile değiştiren\n",
    "# lambda kodu\n",
    "# örneğin a harfi girildiğinde b  ya da z harfini yazacak\n",
    "# Önce cümlenin tüm kelimelerini küçük harfe dönüştürecek sonra değiştirecek\n",
    "\n",
    "harf_degistirme = lambda cumle:cumle.lower().replace('a','b').replace('e','d').replace('ı','h').replace('i','j').replace('o','n').replace('ö','r').replace('u','t').replace('ü','v')\n",
    "\n",
    "print(harf_degistirme(\"Furkan ATLAN Yönetim Bilişim Sistemleri Bucak Zeliha Tolunay\"))"
   ]
  },
  {
   "cell_type": "code",
   "execution_count": 46,
   "id": "d14fa9ef-5264-4563-adf6-57b0631be848",
   "metadata": {},
   "outputs": [],
   "source": [
    "# If-Else Kullanımıyla lambda örnekleri\n",
    "# İki veya daha fazla şartın olması durumunda lambda söz dizimi:\n",
    "\n",
    "# İki Durum için lambda söz dizimi: aşağıdaki örnekte x rastgele bir değişkendir\n",
    "\n",
    "# fonksiyon_adı = lambda x: \"True ise\" if x>100 else \"False ise\"\n",
    "\n",
    "# 3 durum için lambda söz dizimi: aşağıdaki örnekte x rastgele bir değişkendir\n",
    "# fonksiyon_adı = lambda x: \"True\" if x>100 else(\"2. True\" if x<50 else \"False\")"
   ]
  },
  {
   "cell_type": "code",
   "execution_count": 50,
   "id": "7b256d93-3f24-45dd-b3d4-80b9ec48a714",
   "metadata": {},
   "outputs": [
    {
     "name": "stdout",
     "output_type": "stream",
     "text": [
      "56 sayısı ÇİFT sayıdır\n",
      "573 sayısı TEK sayıdır\n"
     ]
    }
   ],
   "source": [
    "# Girilen sayı tek ise \"TEK\" yazan, değilse \"ÇİFT\" yazan lambda kodu\n",
    "\n",
    "tek_cift = lambda y:\"TEK\" if y%2!=0 else \"ÇİFT\"\n",
    "print(f\"56 sayısı {tek_cift(56)} sayıdır\")\n",
    "print(f\"573 sayısı {tek_cift(573)} sayıdır\")"
   ]
  },
  {
   "cell_type": "code",
   "execution_count": 52,
   "id": "40fdca5a-0594-4826-b7fa-e47c3c649a82",
   "metadata": {},
   "outputs": [
    {
     "name": "stdout",
     "output_type": "stream",
     "text": [
      "7\n",
      "61\n",
      "555\n"
     ]
    }
   ],
   "source": [
    "# Girilen 3 sayıdan en büyüğünü döndüren lambda kodu\n",
    "\n",
    "buyuk_kucuk = lambda x,y,z:x if x>y and x>z else(y if y>z else z)\n",
    "\n",
    "print(buyuk_kucuk(7,6,5))\n",
    "print(buyuk_kucuk(7,61,5))\n",
    "print(buyuk_kucuk(7,6,555))"
   ]
  },
  {
   "cell_type": "code",
   "execution_count": null,
   "id": "ae2c418f-4277-4dcc-9ac5-460c914b45ad",
   "metadata": {},
   "outputs": [],
   "source": [
    "def yeni_buyuk_kucuk(x,y,z):\n",
    "    if x>y and x>z:\n",
    "        return x\n",
    "    else:\n",
    "        if y>z:\n",
    "            return y\n",
    "        else:\n",
    "            return z"
   ]
  },
  {
   "cell_type": "code",
   "execution_count": 54,
   "id": "3bbdc176-9d4a-4f0a-a0c4-700c1632dfa0",
   "metadata": {},
   "outputs": [
    {
     "name": "stdout",
     "output_type": "stream",
     "text": [
      "92 notunun harf notu = AA\n",
      "82 notunun harf notu = BA\n",
      "72 notunun harf notu = BB\n",
      "62 notunun harf notu = CB\n",
      "60 notunun harf notu = FF\n"
     ]
    }
   ],
   "source": [
    "# Girilen not değeri:\n",
    "# 91 ile 100 arasındaysa AA\n",
    "# 81 ile 90 arasındaysa BA\n",
    "# 71 ile 80 arasındaysa BB\n",
    "# 61 ile 70 arasındaysa CB\n",
    "# bunlardan hiçbiri değilse FF yazdıran lambda kodu\n",
    "\n",
    "harf_notu = lambda deger:\"AA\" if 91<=deger<=100 else(\"BA\" if 81<=deger<=90 else(\"BB\" if 71<=deger<=80 else(\"CB\" if 61<=deger<=70 else \"FF\")))\n",
    "\n",
    "print(f\"92 notunun harf notu = {harf_notu(92)}\")\n",
    "print(f\"82 notunun harf notu = {harf_notu(82)}\")\n",
    "print(f\"72 notunun harf notu = {harf_notu(72)}\")\n",
    "print(f\"62 notunun harf notu = {harf_notu(62)}\")\n",
    "print(f\"60 notunun harf notu = {harf_notu(60)}\")"
   ]
  },
  {
   "cell_type": "code",
   "execution_count": null,
   "id": "c23adc7a-a238-4814-8d8a-10532aefd422",
   "metadata": {},
   "outputs": [],
   "source": []
  }
 ],
 "metadata": {
  "kernelspec": {
   "display_name": "Python 3 (ipykernel)",
   "language": "python",
   "name": "python3"
  },
  "language_info": {
   "codemirror_mode": {
    "name": "ipython",
    "version": 3
   },
   "file_extension": ".py",
   "mimetype": "text/x-python",
   "name": "python",
   "nbconvert_exporter": "python",
   "pygments_lexer": "ipython3",
   "version": "3.11.7"
  }
 },
 "nbformat": 4,
 "nbformat_minor": 5
}
