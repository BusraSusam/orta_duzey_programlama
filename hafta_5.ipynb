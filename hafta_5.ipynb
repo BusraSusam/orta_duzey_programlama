{
 "cells": [
  {
   "cell_type": "code",
   "execution_count": 1,
   "id": "55308eaa-e753-4819-8192-bc4139397bb0",
   "metadata": {},
   "outputs": [],
   "source": [
    "# map fonksiyonu:\n",
    "# map fonksiyonu, bir lambda fonksiyonunun ya da başka bir fonksiyonun\n",
    "# iterable (yani itere edilebilir yani birden fazla elemanlı bir veri yapısına)\n",
    "# uygulanmasını sağlar."
   ]
  },
  {
   "cell_type": "code",
   "execution_count": 3,
   "id": "dc9b342f-4292-45e7-81fe-e0446341735b",
   "metadata": {},
   "outputs": [
    {
     "name": "stdout",
     "output_type": "stream",
     "text": [
      "6 sayısının karesi = 36\n"
     ]
    }
   ],
   "source": [
    "# Girilen sayının karesini alan lambda kodu\n",
    "\n",
    "kare = lambda x:x**2\n",
    "print(f\"6 sayısının karesi = {kare(6)}\")"
   ]
  },
  {
   "cell_type": "code",
   "execution_count": 5,
   "id": "7b8864ed-196f-4f26-812e-4b1a24d4d7a8",
   "metadata": {},
   "outputs": [
    {
     "name": "stdout",
     "output_type": "stream",
     "text": [
      "[1, 4, 9, 16, 25, 36, 49, 64, 81, 100]\n"
     ]
    }
   ],
   "source": [
    "# Girilen bir listedeki tüm elemanların karesini alan lambda kodu\n",
    "# map fonksiyonu ile, lambda kodunun tek bir değere uygulanmasını tüm listeye/veri yapısına\n",
    "# uygulanmasına dönüştürebilirim\n",
    "\n",
    "# map fonksiyonu mutlaka ama mutlaka bir veri yapısına dönüştürülerek kullanılmalıdır\n",
    "# yani örneğin; list(map()) gibi\n",
    "# map'in içinde tanımlanan kod en sonunda bir listeye dönüştürülüyor\n",
    "\n",
    "#map'in formülü: x herhangi bir değişken ve * işareti örnek bir çarpma işlemi\n",
    "\n",
    "# sonuç_listesi_adı = list(map(lambda x:x*işlem, parametre_verilen_liste))\n",
    "# Örnek, bir listedeki tüm elemanların karesini alan map-lambda kodu\n",
    "\n",
    "my_list = [x for x in range(1,11)]\n",
    "\n",
    "my_list_kare = list(map(lambda x:x**2,my_list))\n",
    "print(my_list_kare)"
   ]
  },
  {
   "cell_type": "code",
   "execution_count": 9,
   "id": "20ca307d-9410-4763-b5cd-3455956ad6fd",
   "metadata": {},
   "outputs": [
    {
     "name": "stdout",
     "output_type": "stream",
     "text": [
      "Orijinal Liste = ['Burdur Mehmet Akif Ersoy Üniversitesi Bucak Ztyo']\n",
      "--------------------------------------------------\n",
      "İşlenmiş Liste = ['BURDUR MEHMET AKİF ERSOY ÜNİVERSİTESİ BUCAK ZTYO']\n"
     ]
    }
   ],
   "source": [
    "# str tipindeki değerleri barındıran bir listenin\n",
    "# tüm değerlerini büyük harfle yazdıran map kodu\n",
    "\n",
    "my_list = [\"Burdur Mehmet Akif Ersoy Üniversitesi Bucak Ztyo\"]\n",
    "\n",
    "my_list_buyuk_yazma = list(map(lambda deger:deger.upper().replace('I','İ'),my_list))\n",
    "\n",
    "print(f\"Orijinal Liste = {my_list}\")\n",
    "print(\"-\"*50)\n",
    "print(f\"İşlenmiş Liste = {my_list_buyuk_yazma}\")"
   ]
  },
  {
   "cell_type": "code",
   "execution_count": 11,
   "id": "5ac98103-7659-4a3d-8ef1-95c952c437f3",
   "metadata": {},
   "outputs": [
    {
     "name": "stdout",
     "output_type": "stream",
     "text": [
      "Toplanacak Liste-1 = [1, 2, 3, 4, 5, 6, 7, 8, 9, 10]\n",
      "Toplanacak Liste-2 = [11, 12, 13, 14, 15, 16, 17, 18, 19, 20]\n",
      "--------------------------------------------------\n",
      "İki listedeki aynı indeksteki elemanların toplamı = [12, 14, 16, 18, 20, 22, 24, 26, 28, 30]\n"
     ]
    }
   ],
   "source": [
    "# Girilen aynı uzunluktaki iki listeyi toplayan map kodu\n",
    "# NOT: her bir listeyi tek bir eleman gibi düşünün\n",
    "\n",
    "list_toplam_1 = [x for x in range(1,11)] # 1'den 10'a kadar olan sayılar\n",
    "list_toplam_2 = [x for x in range(11,21)] # 11'den 20'ye kadar olan sayılar\n",
    "\n",
    "my_map_toplam = list(map(lambda x,y:x+y,list_toplam_1,list_toplam_2))\n",
    "\n",
    "print(f\"Toplanacak Liste-1 = {list_toplam_1}\")\n",
    "print(f\"Toplanacak Liste-2 = {list_toplam_2}\")\n",
    "print(\"-\"*50)\n",
    "print(f\"İki listedeki aynı indeksteki elemanların toplamı = {my_map_toplam}\")"
   ]
  },
  {
   "cell_type": "code",
   "execution_count": 17,
   "id": "c0f57f70-bc62-47ff-8fa0-46c94c8df01c",
   "metadata": {},
   "outputs": [
    {
     "name": "stdout",
     "output_type": "stream",
     "text": [
      "Orijinal Liste = [1, 2, 3, 4, 5, 6, 7, 8, 9, 10]\n",
      "--------------------------------------------------\n",
      "İşlenmiş Liste = [1, 5, 9, -1, 25, -7, 49, -13, 81, -19]\n"
     ]
    }
   ],
   "source": [
    "# Bir listedeki tek sayıların karesini alan, çift sayıların\n",
    "# -3 katının 11 fazlasını alan map kodu\n",
    "\n",
    "my_list_1 = [x for x in range(1,11)] # 1'den 10'a kadar olan sayılar (lambda'nın uygulanacağı liste)\n",
    "\n",
    "mat_islem = list(map(lambda y:y**2 if y%2!=0 else (y*-3)+11,my_list_1))\n",
    "\n",
    "print(f\"Orijinal Liste = {my_list_1}\")\n",
    "print(\"-\"*50)\n",
    "print(f\"İşlenmiş Liste = {mat_islem}\")"
   ]
  },
  {
   "cell_type": "code",
   "execution_count": 19,
   "id": "074c0c17-f252-4ea5-b782-849c36518ee0",
   "metadata": {},
   "outputs": [
    {
     "name": "stdout",
     "output_type": "stream",
     "text": [
      "Orijinal ürün ve fiyatları = dict_items([('kalem', 150), ('silgi', 40), ('kitap', 430), ('uç', 25)])\n",
      "--------------------------------------------------\n",
      "KDV'si hesaplanmış hali = {'kalem': 165.0, 'silgi': 44.0, 'kitap': 473.00000000000006, 'uç': 27.500000000000004}\n"
     ]
    }
   ],
   "source": [
    "# Dictionary veri tipiyle map-lambda kullanımıi\n",
    "# Örnek: ürünlerin fiyat bilgisinin kdv oranıyla toplanması\n",
    "# NOT-1: dictionary veri yapısında :'nın öncesinde \"key\", sonrasında \"value\" bulunur\n",
    "# NOT-2: dictionary.items() fonksiyonu ('Key':Value) şeklinde her bir eleman çiftini döndürür\n",
    "# NOT-3: bir fonksiyonun kısa yazılmasında dictionary kullanılırken \n",
    "# dictionary'ye ait key bilgisi dict[0] ile\n",
    "# dictionary'ye ait value bilgisi dict[1] ile temsil edilir/erişilir.\n",
    "\n",
    "dict_products = {\"kalem\":150,\"silgi\":40,\"kitap\":430,\"uç\":25}\n",
    "\n",
    "kdv_products = dict(map(lambda deger:(deger[0],deger[1]*1.10),dict_products.items()))\n",
    "\n",
    "print(f\"Orijinal ürün ve fiyatları = {dict_products.items()}\")\n",
    "print(f\"-\"*50)\n",
    "print(f\"KDV'si hesaplanmış hali = {kdv_products}\")"
   ]
  },
  {
   "cell_type": "code",
   "execution_count": 39,
   "id": "ce912eae-2732-4399-85c1-eba014200048",
   "metadata": {},
   "outputs": [
    {
     "name": "stdout",
     "output_type": "stream",
     "text": [
      "1. HESAPLAMA ile ÇOCUK-YETİŞKİN AYRIMI = {'ahmet': 'YETİŞKİN', 'leyla': 'YETİŞKİN', 'yusuf': 'ÇOCUK', 'mehmet': 'ÇOCUK', 'hakan': 'YETİŞKİN'}\n",
      "--------------------------------------------------\n",
      "2. HESAPLAMA ile ÇOCUK-YETİŞKİN AYRIMI = ['YETİŞKİN', 'YETİŞKİN', 'ÇOCUK', 'ÇOCUK', 'YETİŞKİN']\n"
     ]
    }
   ],
   "source": [
    "# 4 kişi adı ve bunların yaşını bir dictionary olarak tanımlayın\n",
    "# yazacağınız map kodu ile bu kişilerin yaşı 18'den küçük ise 'ÇOCUK' yazsın\n",
    "# değilse 'YETİŞKİN' yazsın\n",
    "\n",
    "my_dict_people = {\"ahmet\":19,\"leyla\":27,\"yusuf\":12,\"mehmet\":17,\"hakan\":52}\n",
    "\n",
    "#1. Hesaplama (dictionary.items() ile dönen 2 değer üzerinden hesaplama)\n",
    "\n",
    "yas_hesaplama_1 = dict(map(lambda deger: (deger[0],\"YETİŞKİN\" if deger[1]>18 else \"ÇOCUK\"),my_dict_people.items()))\n",
    "\n",
    "print(f\"1. HESAPLAMA ile ÇOCUK-YETİŞKİN AYRIMI = {yas_hesaplama_1}\")\n",
    "\n",
    "# dictionary.values() üzerinden sadece yaş değerlerini tutarak (yani tek bir değişken kullanarak)\n",
    "\n",
    "#yas_hesaplama_2 = dict(map(lambda x: \"YETİŞKİN\" if x>18 else \"ÇOCUK\"),my_dict_people.values()))\n",
    "yas_hesaplama_2 = list(map(lambda x: \"YETİŞKİN\" if x>18 else \"ÇOCUK\",my_dict_people.values()))\n",
    "print(\"-\"*50)\n",
    "print(f\"2. HESAPLAMA ile ÇOCUK-YETİŞKİN AYRIMI = {yas_hesaplama_2}\")"
   ]
  },
  {
   "cell_type": "code",
   "execution_count": 37,
   "id": "650a6b40-081d-46fb-816a-386a0f81b72e",
   "metadata": {},
   "outputs": [
    {
     "data": {
      "text/plain": [
       "dict_values([19, 27, 12, 17, 52])"
      ]
     },
     "execution_count": 37,
     "metadata": {},
     "output_type": "execute_result"
    }
   ],
   "source": [
    "my_dict_people.values()"
   ]
  },
  {
   "cell_type": "code",
   "execution_count": 13,
   "id": "a1e1ff00-df3a-45e0-be93-096b84fa201c",
   "metadata": {},
   "outputs": [
    {
     "name": "stdout",
     "output_type": "stream",
     "text": [
      "[1, 4, 9, 16, 25, 36, 49, 64, 81, 100]\n"
     ]
    }
   ],
   "source": [
    "# Map aşağıdaki gibi çalışır\n",
    "\n",
    "sonuc = lambda x:x**2\n",
    "\n",
    "my_list = [1,2,3,4,5,6,7,8,9,10]\n",
    "\n",
    "bos_list = []\n",
    "\n",
    "for i in my_list:\n",
    "    bos_list.append(sonuc(i))\n",
    "\n",
    "print(bos_list)"
   ]
  },
  {
   "cell_type": "code",
   "execution_count": null,
   "id": "6bed51ea-b607-4f1a-ac00-0605206bfaee",
   "metadata": {},
   "outputs": [],
   "source": []
  }
 ],
 "metadata": {
  "kernelspec": {
   "display_name": "Python 3 (ipykernel)",
   "language": "python",
   "name": "python3"
  },
  "language_info": {
   "codemirror_mode": {
    "name": "ipython",
    "version": 3
   },
   "file_extension": ".py",
   "mimetype": "text/x-python",
   "name": "python",
   "nbconvert_exporter": "python",
   "pygments_lexer": "ipython3",
   "version": "3.11.7"
  }
 },
 "nbformat": 4,
 "nbformat_minor": 5
}
