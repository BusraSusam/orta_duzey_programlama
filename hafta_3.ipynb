{
 "cells": [
  {
   "cell_type": "code",
   "execution_count": 3,
   "id": "3926b860-22c4-4f66-b2b5-9ab542bff6f1",
   "metadata": {},
   "outputs": [],
   "source": [
    "# FONKSİYONLAR\n",
    "# Fonksiyonlar, programlamada kullanılırken tıpkı matematikte olduğu gibi\n",
    "# kullanılır. Belli bir değer aralığı vardır. İşlem yapar, her defasında\n",
    "# normal kod olarak tekrar tekrar yazmak yerine bir defa fonksiyon\n",
    "# olarak tanımlanır, parametreli-parametresiz, geriye değer döndüren-döndürmeyen\n",
    "# olarak farklı türleri vardır.\n",
    "\n",
    "# 0 ile 10 arasında çift sayıların 8 katını alan fonksiyon\n",
    "# 2 sayısının 8 katı\n",
    "# 4 sayısının 8 katı\n",
    "# 6 sayısının 8 katı\n",
    "# 8 sayısının 8 katı\n",
    "\n",
    "# Matematikte yukarıda istenen işlemler şöyle ifade edilebilir\n",
    "# x € Z+ (0,10)%2==0 f(x) = x*8"
   ]
  },
  {
   "cell_type": "code",
   "execution_count": 5,
   "id": "9b72f2b8-9453-45a8-8e47-77b953bbdff1",
   "metadata": {},
   "outputs": [
    {
     "name": "stdout",
     "output_type": "stream",
     "text": [
      "2 sayısının 8 katı = 16\n",
      "4 sayısının 8 katı = 32\n",
      "6 sayısının 8 katı = 48\n",
      "8 sayısının 8 katı = 64\n"
     ]
    }
   ],
   "source": [
    "for i in range(2,9,2):\n",
    "    print(f\"{i} sayısının 8 katı = {i*8}\")"
   ]
  },
  {
   "cell_type": "code",
   "execution_count": 7,
   "id": "7ef4594b-a20d-4518-9619-de910304ca12",
   "metadata": {},
   "outputs": [
    {
     "name": "stdout",
     "output_type": "stream",
     "text": [
      "2 sayısının 8 katı = 16\n",
      "4 sayısının 8 katı = 32\n",
      "6 sayısının 8 katı = 48\n",
      "8 sayısının 8 katı = 64\n"
     ]
    }
   ],
   "source": [
    "\n",
    "def process_of_math_1():\n",
    "    for i in range(2,9,2):\n",
    "        print(f\"{i} sayısının 8 katı = {i*8}\")\n",
    "\n",
    "process_of_math_1()"
   ]
  },
  {
   "cell_type": "code",
   "execution_count": 9,
   "id": "a18f04de-c8ec-4ce8-9709-3fe549639ae2",
   "metadata": {},
   "outputs": [
    {
     "name": "stdout",
     "output_type": "stream",
     "text": [
      "2 sayısının 8 katı = 16\n",
      "4 sayısının 8 katı = 32\n",
      "6 sayısının 8 katı = 48\n",
      "8 sayısının 8 katı = 64\n",
      "None\n"
     ]
    }
   ],
   "source": [
    "kontrol = process_of_math_1()\n",
    "print(kontrol)"
   ]
  },
  {
   "cell_type": "code",
   "execution_count": 17,
   "id": "66e7c372-de81-4383-8339-f74e1a9cd19e",
   "metadata": {},
   "outputs": [],
   "source": [
    "# Parametreli ve geriye değer döndüren fonksiyon\n",
    "# eğer istenirse, parametrelerin de tipleri en baştan belirtilebilir\n",
    "# kod okunabilirliği ve hata analizi açısından bu çok önemlidir\n",
    "\n",
    "def not_hesaplama(vize:int,final:int):\n",
    "    son_not = (vize*0.4)+(final*0.6)\n",
    "    return son_not\n",
    "\n",
    "def gecti_mi_kaldi_mi(gecer_not:float):\n",
    "    if gecer_not>=50:\n",
    "        return \"GEÇTİNİZ\"\n",
    "    else:\n",
    "        return \"KALDINIZ\""
   ]
  },
  {
   "cell_type": "code",
   "execution_count": 19,
   "id": "f1738feb-ee3e-40e1-a6b1-bf485b840bbc",
   "metadata": {},
   "outputs": [
    {
     "data": {
      "text/plain": [
       "100.0"
      ]
     },
     "execution_count": 19,
     "metadata": {},
     "output_type": "execute_result"
    }
   ],
   "source": [
    "ara_not = not_hesaplama(100,100)\n",
    "ara_not"
   ]
  },
  {
   "cell_type": "code",
   "execution_count": 21,
   "id": "0575aade-52e3-4f70-a93f-d1410820396c",
   "metadata": {},
   "outputs": [
    {
     "data": {
      "text/plain": [
       "'GEÇTİNİZ'"
      ]
     },
     "execution_count": 21,
     "metadata": {},
     "output_type": "execute_result"
    }
   ],
   "source": [
    "son_hesaplama = gecti_mi_kaldi_mi(ara_not)\n",
    "son_hesaplama"
   ]
  },
  {
   "cell_type": "code",
   "execution_count": 25,
   "id": "b1ae4847-72f0-4565-81b1-9f1bbc5974b3",
   "metadata": {},
   "outputs": [
    {
     "data": {
      "text/plain": [
       "40"
      ]
     },
     "execution_count": 25,
     "metadata": {},
     "output_type": "execute_result"
    }
   ],
   "source": [
    "# aşağıdaki -> int ifadesinin anlamı şudur:\n",
    "# bu fonksiyon int tipinde bir değer return edecektir\n",
    "# Faydası?\n",
    "\n",
    "def not_hesaplama(vize:int,final:int) -> int:\n",
    "    son_not = (vize*0.4)+(final*0.6)\n",
    "    return int(son_not)\n",
    "\n",
    "\n",
    "yeni_not = not_hesaplama(40,40)\n",
    "yeni_not"
   ]
  },
  {
   "cell_type": "code",
   "execution_count": 27,
   "id": "7f6efbee-4e82-432d-8fa6-ea5d0511f710",
   "metadata": {},
   "outputs": [
    {
     "name": "stdout",
     "output_type": "stream",
     "text": [
      "Help on function not_hesaplama in module __main__:\n",
      "\n",
      "not_hesaplama(vize: int, final: int) -> int\n",
      "\n"
     ]
    }
   ],
   "source": [
    "help(not_hesaplama)"
   ]
  },
  {
   "cell_type": "code",
   "execution_count": 36,
   "id": "3bf7fb98-21d7-42f2-8c72-65ecc779cedd",
   "metadata": {},
   "outputs": [
    {
     "data": {
      "text/plain": [
       "['ahmet YETİŞKİNDİR',\n",
       " 'ayşe YETİŞKİNDİR',\n",
       " 'mehmet YETİŞKİNDİR',\n",
       " 'ali ÇOCUKTUR',\n",
       " 'yusuf ÇOCUKTUR']"
      ]
     },
     "execution_count": 36,
     "metadata": {},
     "output_type": "execute_result"
    }
   ],
   "source": [
    "# Dictionary veri yapısı içerisinde\n",
    "# Yaş bilgisi, 18 ve 18'den büyük olanlar için \"Yetişkin\"\n",
    "# olmayanlar için de \"ÇOCUK\" yazdıran ve bunu geriye döndüren\n",
    "# fonksiyonu yazınız\n",
    "\n",
    "my_dictionary_1 = {\"ahmet\":18,\"ayşe\":26,\"mehmet\":23,\"ali\":11,\"yusuf\":17}\n",
    "\n",
    "# bir dictionary veri yapısında sadece anahtar(key) elde edilmek isteniyorsa\n",
    "# dictionary.keys() fonksiyonu\n",
    "# sadece o anahtarın tuttuğu değer elde edilmek isteniyorsa:\n",
    "# dictionary.values() fonksiyonu\n",
    "# her ikisi aynı anda elde edilmek isteniyorsa dictionary.items()\n",
    "# fonksiyonu kullanılır.\n",
    "\n",
    "def yas_durum_hesaplama(par_dictionary:dict):\n",
    "    my_list = []\n",
    "\n",
    "    for my_key,my_value in par_dictionary.items():\n",
    "        if my_value>=18:\n",
    "            my_list.append(f\"{my_key} YETİŞKİNDİR\")\n",
    "        else:\n",
    "            my_list.append(f\"{my_key} ÇOCUKTUR\")\n",
    "    return my_list\n",
    "\n",
    "sonuc_liste = yas_durum_hesaplama(my_dictionary_1)\n",
    "sonuc_liste"
   ]
  },
  {
   "cell_type": "code",
   "execution_count": 48,
   "id": "1aa634f7-85a9-4483-92ca-a3bae678324c",
   "metadata": {},
   "outputs": [
    {
     "data": {
      "text/plain": [
       "['ali yeni maaşı = 50400.0',\n",
       " 'ayşe yeni maaşı = 52500.0',\n",
       " 'yusuf yeni maaşı = 52800.0',\n",
       " 'hakan yeni maaşı = 90000.0']"
      ]
     },
     "execution_count": 48,
     "metadata": {},
     "output_type": "execute_result"
    }
   ],
   "source": [
    "# dışarıdan parametre olarak bir dictionary alın\n",
    "# bunun içerisindeki maaş değerleri arasında maaşı 25000'den küçük olanlara\n",
    "# %140, olmayanlara %50 zam yapıp zamlı hallerini döndüren fonksiyonu yazınız\n",
    "# hem de bunları bir listeye ekleyip o listeyi döndürecek\n",
    "\n",
    "my_dictionary_2 = {\"ali\":21000,\"ayşe\":35000,\"yusuf\":22000,\"hakan\":60000}\n",
    "\n",
    "def calculate_salary(gecici_par_2:dict):\n",
    "    my_list = []\n",
    "\n",
    "    for my_key, my_value in gecici_par_2.items():\n",
    "        if my_value<25000:\n",
    "            # bir değişkenin %140'ını hesaplama(zamlı hali-1.yol)\n",
    "            #new_salary = my_value+(my_value*1.4)\n",
    "            \n",
    "            # bir değişkenin %140'ını hesaplama(zamlı hali-2.yol)\n",
    "            new_salary = my_value*2.4\n",
    "            my_list.append(f\"{my_key} yeni maaşı = {new_salary}\")\n",
    "        else:\n",
    "            # bir değişkenin %50'sini hesaplama(zamlı hali-2.yol)\n",
    "            new_salary = my_value*1.5\n",
    "            my_list.append(f\"{my_key} yeni maaşı = {new_salary}\")\n",
    "\n",
    "    return my_list\n",
    "\n",
    "gecici_maas= calculate_salary(my_dictionary_2)\n",
    "gecici_maas"
   ]
  },
  {
   "cell_type": "code",
   "execution_count": 50,
   "id": "da82afea-4521-4065-bfb7-44ae73e4d28b",
   "metadata": {},
   "outputs": [
    {
     "name": "stdout",
     "output_type": "stream",
     "text": [
      "Tek sayıları içeren liste = [1, 3, 5, 7, 9, 11, 13, 15, 17, 19, 21, 23, 25, 27, 29, 31, 33, 35, 37, 39, 41, 43, 45, 47, 49, 51, 53, 55, 57, 59, 61, 63, 65, 67, 69, 71, 73, 75, 77, 79, 81, 83, 85, 87, 89, 91, 93, 95, 97, 99]\n",
      "Çift sayıları içeren liste = [0, 2, 4, 6, 8, 10, 12, 14, 16, 18, 20, 22, 24, 26, 28, 30, 32, 34, 36, 38, 40, 42, 44, 46, 48, 50, 52, 54, 56, 58, 60, 62, 64, 66, 68, 70, 72, 74, 76, 78, 80, 82, 84, 86, 88, 90, 92, 94, 96, 98, 100]\n"
     ]
    }
   ],
   "source": [
    "# Kendisine parametre olarak verilen listedeki\n",
    "# çift sayıları bir listeye, tek sayıları başka bir listeye\n",
    "# ekleyip, bu iki listeyi de döndüren fonksiyonu yazınız\n",
    "\n",
    "ornek_liste = [x for x in range(0,101)]\n",
    "\n",
    "def tek_cift(par_gecici_3:list):\n",
    "    liste_tek, liste_cift = [], []\n",
    "\n",
    "    for i in par_gecici_3:\n",
    "        if i%2==0:\n",
    "            liste_cift.append(i)\n",
    "        else:\n",
    "            liste_tek.append(i)\n",
    "    return liste_tek, liste_cift\n",
    "\n",
    "my_tek, my_cift = tek_cift(ornek_liste)\n",
    "print(f\"Tek sayıları içeren liste = {my_tek}\")\n",
    "print(f\"Çift sayıları içeren liste = {my_cift}\")"
   ]
  },
  {
   "cell_type": "code",
   "execution_count": 52,
   "id": "441b142f-7193-45c9-bb70-15f4d13b0edc",
   "metadata": {},
   "outputs": [
    {
     "name": "stdout",
     "output_type": "stream",
     "text": [
      "Tek sayılar ile ilgili işlemleri içeren liste = [-3, -9, -15, -21, -27, -33, -39, -45, -51, -57, -63, -69, -75, -81, -87, -93, -99, -105, -111, -117, -123, -129, -135, -141, -147, -153, -159, -165, -171, -177, -183, -189, -195, -201, -207, -213, -219, -225, -231, -237, -243, -249, -255, -261, -267, -273, -279, -285, -291, -297]\n",
      "Çift sayılar ile ilgili işlemleri içeren liste = [0.0, 2.0, 8.0, 18.0, 32.0, 50.0, 72.0, 98.0, 128.0, 162.0, 200.0, 242.0, 288.0, 338.0, 392.0, 450.0, 512.0, 578.0, 648.0, 722.0, 800.0, 882.0, 968.0, 1058.0, 1152.0, 1250.0, 1352.0, 1458.0, 1568.0, 1682.0, 1800.0, 1922.0, 2048.0, 2178.0, 2312.0, 2450.0, 2592.0, 2738.0, 2888.0, 3042.0, 3200.0, 3362.0, 3528.0, 3698.0, 3872.0, 4050.0, 4232.0, 4418.0, 4608.0, 4802.0, 5000.0]\n"
     ]
    }
   ],
   "source": [
    "# Dışarıdan parametre olarak bir liste alan\n",
    "# bu listedeki tek sayıların negatif halinin 3 katını\n",
    "# çift sayıların karesinin yarısının 2 farklı listeye ekleyen\n",
    "# bu iki listeyi döndüren fonksiyonu yazınız\n",
    "\n",
    "ornek_liste = [x for x in range(0,101)]\n",
    "\n",
    "def tek_cift(par_gecici_3:list):\n",
    "    liste_tek, liste_cift = [], []\n",
    "    \n",
    "    for i in par_gecici_3: \n",
    "        if i%2==0:\n",
    "            liste_cift.append((i**2)/2)\n",
    "        else:\n",
    "            liste_tek.append(i*-3)# -i*3 ya da i*-3\n",
    "\n",
    "    \n",
    "    return liste_tek, liste_cift\n",
    "\n",
    "my_tek, my_cift = tek_cift(ornek_liste)\n",
    "print(f\"Tek sayılar ile ilgili işlemleri içeren liste = {my_tek}\")\n",
    "print(f\"Çift sayılar ile ilgili işlemleri içeren liste = {my_cift}\")"
   ]
  },
  {
   "cell_type": "code",
   "execution_count": 58,
   "id": "2225b7d3-56a3-444e-acd0-39ab7a301982",
   "metadata": {},
   "outputs": [
    {
     "name": "stdout",
     "output_type": "stream",
     "text": [
      "40320\n",
      "20160.0\n",
      "200.79840636817812\n"
     ]
    }
   ],
   "source": [
    "# girilen ve 10'dan küçük olan pozitif sayıların faktöriyelini\n",
    "# döndüren fonksiyonu yazınız\n",
    "# bir sayının kendinden önceki pozitif sayılarla çarpımı\n",
    "\n",
    "def faktoriyel(sayi):\n",
    "    if sayi>0 and sayi<=10:\n",
    "        faktoriyel_sayi = 1\n",
    "        for i in range(1,sayi+1):\n",
    "            faktoriyel_sayi *= i\n",
    "            # faktoriyel_sayi = faktoriyel_sayi * i\n",
    "        return faktoriyel_sayi\n",
    "\n",
    "sonuc_1 = faktoriyel(8) # 1*2*3*4*5*6*7*8 = 40320\n",
    "print(sonuc_1)\n",
    "print(sonuc_1/2)\n",
    "print(sonuc_1**0.5)"
   ]
  },
  {
   "cell_type": "code",
   "execution_count": null,
   "id": "57e374ad-c724-473e-ba2f-1fd05e95fccf",
   "metadata": {},
   "outputs": [],
   "source": []
  }
 ],
 "metadata": {
  "kernelspec": {
   "display_name": "Python 3 (ipykernel)",
   "language": "python",
   "name": "python3"
  },
  "language_info": {
   "codemirror_mode": {
    "name": "ipython",
    "version": 3
   },
   "file_extension": ".py",
   "mimetype": "text/x-python",
   "name": "python",
   "nbconvert_exporter": "python",
   "pygments_lexer": "ipython3",
   "version": "3.11.7"
  }
 },
 "nbformat": 4,
 "nbformat_minor": 5
}
